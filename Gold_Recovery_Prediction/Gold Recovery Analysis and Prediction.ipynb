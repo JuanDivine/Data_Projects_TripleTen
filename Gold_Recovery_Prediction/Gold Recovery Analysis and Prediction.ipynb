{
 "cells": [
  {
   "cell_type": "markdown",
   "metadata": {},
   "source": [
    "# Gold Recovery Analysis and Prediction\n",
    "\n",
    "This notebook aims to analyze and build predictive models for gold recovery using the provided datasets. The project involves data preparation, exploratory data analysis, preprocessing, model training, and evaluation.\n",
    "\n",
    "---\n",
    "\n",
    "## Data Preparation\n",
    "\n",
    "### Load the Datasets\n",
    "\n",
    "We begin by loading the training, testing, and full datasets to inspect their structure and understand the available features.\n"
   ]
  },
  {
   "cell_type": "code",
   "execution_count": 24,
   "metadata": {},
   "outputs": [],
   "source": [
    "# Import necessary libraries\n",
    "import pandas as pd\n",
    "import numpy as np\n",
    "import matplotlib.pyplot as plt\n",
    "from sklearn.metrics import mean_absolute_error\n",
    "from sklearn.model_selection import train_test_split, cross_val_score\n",
    "from sklearn.ensemble import RandomForestRegressor\n",
    "from sklearn.linear_model import LinearRegression\n",
    "from sklearn.tree import DecisionTreeRegressor\n",
    "from sklearn.preprocessing import StandardScaler"
   ]
  },
  {
   "cell_type": "code",
   "execution_count": 25,
   "metadata": {
    "scrolled": false
   },
   "outputs": [],
   "source": [
    "# Load the datasets\n",
    "train_data = pd.read_csv(r'C:\\Users\\nanor\\Desktop\\TripleTenNotes\\TripleTen Projects\\Data_Projects_TripleTen\\Gold_Recovery_Prediction\\Datasets\\gold_recovery_train.csv')\n",
    "test_data = pd.read_csv(r'C:\\Users\\nanor\\Desktop\\TripleTenNotes\\TripleTen Projects\\Data_Projects_TripleTen\\Gold_Recovery_Prediction\\Datasets\\gold_recovery_test.csv')\n",
    "full_data = pd.read_csv(r'C:\\Users\\nanor\\Desktop\\TripleTenNotes\\TripleTen Projects\\Data_Projects_TripleTen\\Gold_Recovery_Prediction\\Datasets\\gold_recovery_full.csv')"
   ]
  },
  {
   "cell_type": "code",
   "execution_count": 26,
   "metadata": {
    "scrolled": false
   },
   "outputs": [
    {
     "name": "stdout",
     "output_type": "stream",
     "text": [
      "<class 'pandas.core.frame.DataFrame'>\n",
      "RangeIndex: 16860 entries, 0 to 16859\n",
      "Data columns (total 87 columns):\n",
      " #   Column                                              Non-Null Count  Dtype  \n",
      "---  ------                                              --------------  -----  \n",
      " 0   date                                                16860 non-null  object \n",
      " 1   final.output.concentrate_ag                         16788 non-null  float64\n",
      " 2   final.output.concentrate_pb                         16788 non-null  float64\n",
      " 3   final.output.concentrate_sol                        16490 non-null  float64\n",
      " 4   final.output.concentrate_au                         16789 non-null  float64\n",
      " 5   final.output.recovery                               15339 non-null  float64\n",
      " 6   final.output.tail_ag                                16794 non-null  float64\n",
      " 7   final.output.tail_pb                                16677 non-null  float64\n",
      " 8   final.output.tail_sol                               16715 non-null  float64\n",
      " 9   final.output.tail_au                                16794 non-null  float64\n",
      " 10  primary_cleaner.input.sulfate                       15553 non-null  float64\n",
      " 11  primary_cleaner.input.depressant                    15598 non-null  float64\n",
      " 12  primary_cleaner.input.feed_size                     16860 non-null  float64\n",
      " 13  primary_cleaner.input.xanthate                      15875 non-null  float64\n",
      " 14  primary_cleaner.output.concentrate_ag               16778 non-null  float64\n",
      " 15  primary_cleaner.output.concentrate_pb               16502 non-null  float64\n",
      " 16  primary_cleaner.output.concentrate_sol              16224 non-null  float64\n",
      " 17  primary_cleaner.output.concentrate_au               16778 non-null  float64\n",
      " 18  primary_cleaner.output.tail_ag                      16777 non-null  float64\n",
      " 19  primary_cleaner.output.tail_pb                      16761 non-null  float64\n",
      " 20  primary_cleaner.output.tail_sol                     16579 non-null  float64\n",
      " 21  primary_cleaner.output.tail_au                      16777 non-null  float64\n",
      " 22  primary_cleaner.state.floatbank8_a_air              16820 non-null  float64\n",
      " 23  primary_cleaner.state.floatbank8_a_level            16827 non-null  float64\n",
      " 24  primary_cleaner.state.floatbank8_b_air              16820 non-null  float64\n",
      " 25  primary_cleaner.state.floatbank8_b_level            16833 non-null  float64\n",
      " 26  primary_cleaner.state.floatbank8_c_air              16822 non-null  float64\n",
      " 27  primary_cleaner.state.floatbank8_c_level            16833 non-null  float64\n",
      " 28  primary_cleaner.state.floatbank8_d_air              16821 non-null  float64\n",
      " 29  primary_cleaner.state.floatbank8_d_level            16833 non-null  float64\n",
      " 30  rougher.calculation.sulfate_to_au_concentrate       16833 non-null  float64\n",
      " 31  rougher.calculation.floatbank10_sulfate_to_au_feed  16833 non-null  float64\n",
      " 32  rougher.calculation.floatbank11_sulfate_to_au_feed  16833 non-null  float64\n",
      " 33  rougher.calculation.au_pb_ratio                     15618 non-null  float64\n",
      " 34  rougher.input.feed_ag                               16778 non-null  float64\n",
      " 35  rougher.input.feed_pb                               16632 non-null  float64\n",
      " 36  rougher.input.feed_rate                             16347 non-null  float64\n",
      " 37  rougher.input.feed_size                             16443 non-null  float64\n",
      " 38  rougher.input.feed_sol                              16568 non-null  float64\n",
      " 39  rougher.input.feed_au                               16777 non-null  float64\n",
      " 40  rougher.input.floatbank10_sulfate                   15816 non-null  float64\n",
      " 41  rougher.input.floatbank10_xanthate                  16514 non-null  float64\n",
      " 42  rougher.input.floatbank11_sulfate                   16237 non-null  float64\n",
      " 43  rougher.input.floatbank11_xanthate                  14956 non-null  float64\n",
      " 44  rougher.output.concentrate_ag                       16778 non-null  float64\n",
      " 45  rougher.output.concentrate_pb                       16778 non-null  float64\n",
      " 46  rougher.output.concentrate_sol                      16698 non-null  float64\n",
      " 47  rougher.output.concentrate_au                       16778 non-null  float64\n",
      " 48  rougher.output.recovery                             14287 non-null  float64\n",
      " 49  rougher.output.tail_ag                              14610 non-null  float64\n",
      " 50  rougher.output.tail_pb                              16778 non-null  float64\n",
      " 51  rougher.output.tail_sol                             14611 non-null  float64\n",
      " 52  rougher.output.tail_au                              14611 non-null  float64\n",
      " 53  rougher.state.floatbank10_a_air                     16807 non-null  float64\n",
      " 54  rougher.state.floatbank10_a_level                   16807 non-null  float64\n",
      " 55  rougher.state.floatbank10_b_air                     16807 non-null  float64\n",
      " 56  rougher.state.floatbank10_b_level                   16807 non-null  float64\n",
      " 57  rougher.state.floatbank10_c_air                     16807 non-null  float64\n",
      " 58  rougher.state.floatbank10_c_level                   16814 non-null  float64\n",
      " 59  rougher.state.floatbank10_d_air                     16802 non-null  float64\n",
      " 60  rougher.state.floatbank10_d_level                   16809 non-null  float64\n",
      " 61  rougher.state.floatbank10_e_air                     16257 non-null  float64\n",
      " 62  rougher.state.floatbank10_e_level                   16809 non-null  float64\n",
      " 63  rougher.state.floatbank10_f_air                     16802 non-null  float64\n",
      " 64  rougher.state.floatbank10_f_level                   16802 non-null  float64\n",
      " 65  secondary_cleaner.output.tail_ag                    16776 non-null  float64\n",
      " 66  secondary_cleaner.output.tail_pb                    16764 non-null  float64\n",
      " 67  secondary_cleaner.output.tail_sol                   14874 non-null  float64\n",
      " 68  secondary_cleaner.output.tail_au                    16778 non-null  float64\n",
      " 69  secondary_cleaner.state.floatbank2_a_air            16497 non-null  float64\n",
      " 70  secondary_cleaner.state.floatbank2_a_level          16751 non-null  float64\n",
      " 71  secondary_cleaner.state.floatbank2_b_air            16705 non-null  float64\n",
      " 72  secondary_cleaner.state.floatbank2_b_level          16748 non-null  float64\n",
      " 73  secondary_cleaner.state.floatbank3_a_air            16763 non-null  float64\n",
      " 74  secondary_cleaner.state.floatbank3_a_level          16747 non-null  float64\n",
      " 75  secondary_cleaner.state.floatbank3_b_air            16752 non-null  float64\n",
      " 76  secondary_cleaner.state.floatbank3_b_level          16750 non-null  float64\n",
      " 77  secondary_cleaner.state.floatbank4_a_air            16731 non-null  float64\n",
      " 78  secondary_cleaner.state.floatbank4_a_level          16747 non-null  float64\n",
      " 79  secondary_cleaner.state.floatbank4_b_air            16768 non-null  float64\n",
      " 80  secondary_cleaner.state.floatbank4_b_level          16767 non-null  float64\n",
      " 81  secondary_cleaner.state.floatbank5_a_air            16775 non-null  float64\n",
      " 82  secondary_cleaner.state.floatbank5_a_level          16775 non-null  float64\n",
      " 83  secondary_cleaner.state.floatbank5_b_air            16775 non-null  float64\n",
      " 84  secondary_cleaner.state.floatbank5_b_level          16776 non-null  float64\n",
      " 85  secondary_cleaner.state.floatbank6_a_air            16757 non-null  float64\n",
      " 86  secondary_cleaner.state.floatbank6_a_level          16775 non-null  float64\n",
      "dtypes: float64(86), object(1)\n",
      "memory usage: 11.2+ MB\n"
     ]
    },
    {
     "data": {
      "text/plain": [
       "None"
      ]
     },
     "metadata": {},
     "output_type": "display_data"
    }
   ],
   "source": [
    "display(train_data.info())"
   ]
  },
  {
   "cell_type": "code",
   "execution_count": 27,
   "metadata": {
    "scrolled": false
   },
   "outputs": [
    {
     "name": "stdout",
     "output_type": "stream",
     "text": [
      "<class 'pandas.core.frame.DataFrame'>\n",
      "RangeIndex: 5856 entries, 0 to 5855\n",
      "Data columns (total 53 columns):\n",
      " #   Column                                      Non-Null Count  Dtype  \n",
      "---  ------                                      --------------  -----  \n",
      " 0   date                                        5856 non-null   object \n",
      " 1   primary_cleaner.input.sulfate               5554 non-null   float64\n",
      " 2   primary_cleaner.input.depressant            5572 non-null   float64\n",
      " 3   primary_cleaner.input.feed_size             5856 non-null   float64\n",
      " 4   primary_cleaner.input.xanthate              5690 non-null   float64\n",
      " 5   primary_cleaner.state.floatbank8_a_air      5840 non-null   float64\n",
      " 6   primary_cleaner.state.floatbank8_a_level    5840 non-null   float64\n",
      " 7   primary_cleaner.state.floatbank8_b_air      5840 non-null   float64\n",
      " 8   primary_cleaner.state.floatbank8_b_level    5840 non-null   float64\n",
      " 9   primary_cleaner.state.floatbank8_c_air      5840 non-null   float64\n",
      " 10  primary_cleaner.state.floatbank8_c_level    5840 non-null   float64\n",
      " 11  primary_cleaner.state.floatbank8_d_air      5840 non-null   float64\n",
      " 12  primary_cleaner.state.floatbank8_d_level    5840 non-null   float64\n",
      " 13  rougher.input.feed_ag                       5840 non-null   float64\n",
      " 14  rougher.input.feed_pb                       5840 non-null   float64\n",
      " 15  rougher.input.feed_rate                     5816 non-null   float64\n",
      " 16  rougher.input.feed_size                     5834 non-null   float64\n",
      " 17  rougher.input.feed_sol                      5789 non-null   float64\n",
      " 18  rougher.input.feed_au                       5840 non-null   float64\n",
      " 19  rougher.input.floatbank10_sulfate           5599 non-null   float64\n",
      " 20  rougher.input.floatbank10_xanthate          5733 non-null   float64\n",
      " 21  rougher.input.floatbank11_sulfate           5801 non-null   float64\n",
      " 22  rougher.input.floatbank11_xanthate          5503 non-null   float64\n",
      " 23  rougher.state.floatbank10_a_air             5839 non-null   float64\n",
      " 24  rougher.state.floatbank10_a_level           5840 non-null   float64\n",
      " 25  rougher.state.floatbank10_b_air             5839 non-null   float64\n",
      " 26  rougher.state.floatbank10_b_level           5840 non-null   float64\n",
      " 27  rougher.state.floatbank10_c_air             5839 non-null   float64\n",
      " 28  rougher.state.floatbank10_c_level           5840 non-null   float64\n",
      " 29  rougher.state.floatbank10_d_air             5839 non-null   float64\n",
      " 30  rougher.state.floatbank10_d_level           5840 non-null   float64\n",
      " 31  rougher.state.floatbank10_e_air             5839 non-null   float64\n",
      " 32  rougher.state.floatbank10_e_level           5840 non-null   float64\n",
      " 33  rougher.state.floatbank10_f_air             5839 non-null   float64\n",
      " 34  rougher.state.floatbank10_f_level           5840 non-null   float64\n",
      " 35  secondary_cleaner.state.floatbank2_a_air    5836 non-null   float64\n",
      " 36  secondary_cleaner.state.floatbank2_a_level  5840 non-null   float64\n",
      " 37  secondary_cleaner.state.floatbank2_b_air    5833 non-null   float64\n",
      " 38  secondary_cleaner.state.floatbank2_b_level  5840 non-null   float64\n",
      " 39  secondary_cleaner.state.floatbank3_a_air    5822 non-null   float64\n",
      " 40  secondary_cleaner.state.floatbank3_a_level  5840 non-null   float64\n",
      " 41  secondary_cleaner.state.floatbank3_b_air    5840 non-null   float64\n",
      " 42  secondary_cleaner.state.floatbank3_b_level  5840 non-null   float64\n",
      " 43  secondary_cleaner.state.floatbank4_a_air    5840 non-null   float64\n",
      " 44  secondary_cleaner.state.floatbank4_a_level  5840 non-null   float64\n",
      " 45  secondary_cleaner.state.floatbank4_b_air    5840 non-null   float64\n",
      " 46  secondary_cleaner.state.floatbank4_b_level  5840 non-null   float64\n",
      " 47  secondary_cleaner.state.floatbank5_a_air    5840 non-null   float64\n",
      " 48  secondary_cleaner.state.floatbank5_a_level  5840 non-null   float64\n",
      " 49  secondary_cleaner.state.floatbank5_b_air    5840 non-null   float64\n",
      " 50  secondary_cleaner.state.floatbank5_b_level  5840 non-null   float64\n",
      " 51  secondary_cleaner.state.floatbank6_a_air    5840 non-null   float64\n",
      " 52  secondary_cleaner.state.floatbank6_a_level  5840 non-null   float64\n",
      "dtypes: float64(52), object(1)\n",
      "memory usage: 2.4+ MB\n"
     ]
    },
    {
     "data": {
      "text/plain": [
       "None"
      ]
     },
     "metadata": {},
     "output_type": "display_data"
    }
   ],
   "source": [
    "display(test_data.info())"
   ]
  },
  {
   "cell_type": "code",
   "execution_count": 28,
   "metadata": {
    "scrolled": false
   },
   "outputs": [
    {
     "name": "stdout",
     "output_type": "stream",
     "text": [
      "<class 'pandas.core.frame.DataFrame'>\n",
      "RangeIndex: 22716 entries, 0 to 22715\n",
      "Data columns (total 87 columns):\n",
      " #   Column                                              Non-Null Count  Dtype  \n",
      "---  ------                                              --------------  -----  \n",
      " 0   date                                                22716 non-null  object \n",
      " 1   final.output.concentrate_ag                         22627 non-null  float64\n",
      " 2   final.output.concentrate_pb                         22629 non-null  float64\n",
      " 3   final.output.concentrate_sol                        22331 non-null  float64\n",
      " 4   final.output.concentrate_au                         22630 non-null  float64\n",
      " 5   final.output.recovery                               20753 non-null  float64\n",
      " 6   final.output.tail_ag                                22633 non-null  float64\n",
      " 7   final.output.tail_pb                                22516 non-null  float64\n",
      " 8   final.output.tail_sol                               22445 non-null  float64\n",
      " 9   final.output.tail_au                                22635 non-null  float64\n",
      " 10  primary_cleaner.input.sulfate                       21107 non-null  float64\n",
      " 11  primary_cleaner.input.depressant                    21170 non-null  float64\n",
      " 12  primary_cleaner.input.feed_size                     22716 non-null  float64\n",
      " 13  primary_cleaner.input.xanthate                      21565 non-null  float64\n",
      " 14  primary_cleaner.output.concentrate_ag               22618 non-null  float64\n",
      " 15  primary_cleaner.output.concentrate_pb               22268 non-null  float64\n",
      " 16  primary_cleaner.output.concentrate_sol              21918 non-null  float64\n",
      " 17  primary_cleaner.output.concentrate_au               22618 non-null  float64\n",
      " 18  primary_cleaner.output.tail_ag                      22614 non-null  float64\n",
      " 19  primary_cleaner.output.tail_pb                      22594 non-null  float64\n",
      " 20  primary_cleaner.output.tail_sol                     22365 non-null  float64\n",
      " 21  primary_cleaner.output.tail_au                      22617 non-null  float64\n",
      " 22  primary_cleaner.state.floatbank8_a_air              22660 non-null  float64\n",
      " 23  primary_cleaner.state.floatbank8_a_level            22667 non-null  float64\n",
      " 24  primary_cleaner.state.floatbank8_b_air              22660 non-null  float64\n",
      " 25  primary_cleaner.state.floatbank8_b_level            22673 non-null  float64\n",
      " 26  primary_cleaner.state.floatbank8_c_air              22662 non-null  float64\n",
      " 27  primary_cleaner.state.floatbank8_c_level            22673 non-null  float64\n",
      " 28  primary_cleaner.state.floatbank8_d_air              22661 non-null  float64\n",
      " 29  primary_cleaner.state.floatbank8_d_level            22673 non-null  float64\n",
      " 30  rougher.calculation.sulfate_to_au_concentrate       22672 non-null  float64\n",
      " 31  rougher.calculation.floatbank10_sulfate_to_au_feed  22672 non-null  float64\n",
      " 32  rougher.calculation.floatbank11_sulfate_to_au_feed  22672 non-null  float64\n",
      " 33  rougher.calculation.au_pb_ratio                     21089 non-null  float64\n",
      " 34  rougher.input.feed_ag                               22618 non-null  float64\n",
      " 35  rougher.input.feed_pb                               22472 non-null  float64\n",
      " 36  rougher.input.feed_rate                             22163 non-null  float64\n",
      " 37  rougher.input.feed_size                             22277 non-null  float64\n",
      " 38  rougher.input.feed_sol                              22357 non-null  float64\n",
      " 39  rougher.input.feed_au                               22617 non-null  float64\n",
      " 40  rougher.input.floatbank10_sulfate                   21415 non-null  float64\n",
      " 41  rougher.input.floatbank10_xanthate                  22247 non-null  float64\n",
      " 42  rougher.input.floatbank11_sulfate                   22038 non-null  float64\n",
      " 43  rougher.input.floatbank11_xanthate                  20459 non-null  float64\n",
      " 44  rougher.output.concentrate_ag                       22618 non-null  float64\n",
      " 45  rougher.output.concentrate_pb                       22618 non-null  float64\n",
      " 46  rougher.output.concentrate_sol                      22526 non-null  float64\n",
      " 47  rougher.output.concentrate_au                       22618 non-null  float64\n",
      " 48  rougher.output.recovery                             19597 non-null  float64\n",
      " 49  rougher.output.tail_ag                              19979 non-null  float64\n",
      " 50  rougher.output.tail_pb                              22618 non-null  float64\n",
      " 51  rougher.output.tail_sol                             19980 non-null  float64\n",
      " 52  rougher.output.tail_au                              19980 non-null  float64\n",
      " 53  rougher.state.floatbank10_a_air                     22646 non-null  float64\n",
      " 54  rougher.state.floatbank10_a_level                   22647 non-null  float64\n",
      " 55  rougher.state.floatbank10_b_air                     22646 non-null  float64\n",
      " 56  rougher.state.floatbank10_b_level                   22647 non-null  float64\n",
      " 57  rougher.state.floatbank10_c_air                     22646 non-null  float64\n",
      " 58  rougher.state.floatbank10_c_level                   22654 non-null  float64\n",
      " 59  rougher.state.floatbank10_d_air                     22641 non-null  float64\n",
      " 60  rougher.state.floatbank10_d_level                   22649 non-null  float64\n",
      " 61  rougher.state.floatbank10_e_air                     22096 non-null  float64\n",
      " 62  rougher.state.floatbank10_e_level                   22649 non-null  float64\n",
      " 63  rougher.state.floatbank10_f_air                     22641 non-null  float64\n",
      " 64  rougher.state.floatbank10_f_level                   22642 non-null  float64\n",
      " 65  secondary_cleaner.output.tail_ag                    22616 non-null  float64\n",
      " 66  secondary_cleaner.output.tail_pb                    22600 non-null  float64\n",
      " 67  secondary_cleaner.output.tail_sol                   20501 non-null  float64\n",
      " 68  secondary_cleaner.output.tail_au                    22618 non-null  float64\n",
      " 69  secondary_cleaner.state.floatbank2_a_air            22333 non-null  float64\n",
      " 70  secondary_cleaner.state.floatbank2_a_level          22591 non-null  float64\n",
      " 71  secondary_cleaner.state.floatbank2_b_air            22538 non-null  float64\n",
      " 72  secondary_cleaner.state.floatbank2_b_level          22588 non-null  float64\n",
      " 73  secondary_cleaner.state.floatbank3_a_air            22585 non-null  float64\n",
      " 74  secondary_cleaner.state.floatbank3_a_level          22587 non-null  float64\n",
      " 75  secondary_cleaner.state.floatbank3_b_air            22592 non-null  float64\n",
      " 76  secondary_cleaner.state.floatbank3_b_level          22590 non-null  float64\n",
      " 77  secondary_cleaner.state.floatbank4_a_air            22571 non-null  float64\n",
      " 78  secondary_cleaner.state.floatbank4_a_level          22587 non-null  float64\n",
      " 79  secondary_cleaner.state.floatbank4_b_air            22608 non-null  float64\n",
      " 80  secondary_cleaner.state.floatbank4_b_level          22607 non-null  float64\n",
      " 81  secondary_cleaner.state.floatbank5_a_air            22615 non-null  float64\n",
      " 82  secondary_cleaner.state.floatbank5_a_level          22615 non-null  float64\n",
      " 83  secondary_cleaner.state.floatbank5_b_air            22615 non-null  float64\n",
      " 84  secondary_cleaner.state.floatbank5_b_level          22616 non-null  float64\n",
      " 85  secondary_cleaner.state.floatbank6_a_air            22597 non-null  float64\n",
      " 86  secondary_cleaner.state.floatbank6_a_level          22615 non-null  float64\n",
      "dtypes: float64(86), object(1)\n",
      "memory usage: 15.1+ MB\n"
     ]
    },
    {
     "data": {
      "text/plain": [
       "None"
      ]
     },
     "metadata": {},
     "output_type": "display_data"
    }
   ],
   "source": [
    "display(full_data.info())"
   ]
  },
  {
   "cell_type": "code",
   "execution_count": 29,
   "metadata": {
    "scrolled": false
   },
   "outputs": [
    {
     "name": "stdout",
     "output_type": "stream",
     "text": [
      "Missing values percentage in training dataset:\n",
      " date                                          0.000000\n",
      "final.output.concentrate_ag                   0.004909\n",
      "final.output.concentrate_pb                   0.004909\n",
      "final.output.concentrate_sol                  0.025225\n",
      "final.output.concentrate_au                   0.004840\n",
      "                                                ...   \n",
      "secondary_cleaner.state.floatbank5_a_level    0.005795\n",
      "secondary_cleaner.state.floatbank5_b_air      0.005795\n",
      "secondary_cleaner.state.floatbank5_b_level    0.005727\n",
      "secondary_cleaner.state.floatbank6_a_air      0.007022\n",
      "secondary_cleaner.state.floatbank6_a_level    0.005795\n",
      "Length: 87, dtype: float64\n",
      "\n",
      "Missing values percentage in test dataset:\n",
      " date                                          0.000000\n",
      "primary_cleaner.input.sulfate                 0.097304\n",
      "primary_cleaner.input.depressant              0.091504\n",
      "primary_cleaner.input.feed_size               0.000000\n",
      "primary_cleaner.input.xanthate                0.053485\n",
      "primary_cleaner.state.floatbank8_a_air        0.005155\n",
      "primary_cleaner.state.floatbank8_a_level      0.005155\n",
      "primary_cleaner.state.floatbank8_b_air        0.005155\n",
      "primary_cleaner.state.floatbank8_b_level      0.005155\n",
      "primary_cleaner.state.floatbank8_c_air        0.005155\n",
      "primary_cleaner.state.floatbank8_c_level      0.005155\n",
      "primary_cleaner.state.floatbank8_d_air        0.005155\n",
      "primary_cleaner.state.floatbank8_d_level      0.005155\n",
      "rougher.input.feed_ag                         0.005155\n",
      "rougher.input.feed_pb                         0.005155\n",
      "rougher.input.feed_rate                       0.012888\n",
      "rougher.input.feed_size                       0.007088\n",
      "rougher.input.feed_sol                        0.021587\n",
      "rougher.input.feed_au                         0.005155\n",
      "rougher.input.floatbank10_sulfate             0.082805\n",
      "rougher.input.floatbank10_xanthate            0.039630\n",
      "rougher.input.floatbank11_sulfate             0.017721\n",
      "rougher.input.floatbank11_xanthate            0.113736\n",
      "rougher.state.floatbank10_a_air               0.005477\n",
      "rougher.state.floatbank10_a_level             0.005155\n",
      "rougher.state.floatbank10_b_air               0.005477\n",
      "rougher.state.floatbank10_b_level             0.005155\n",
      "rougher.state.floatbank10_c_air               0.005477\n",
      "rougher.state.floatbank10_c_level             0.005155\n",
      "rougher.state.floatbank10_d_air               0.005477\n",
      "rougher.state.floatbank10_d_level             0.005155\n",
      "rougher.state.floatbank10_e_air               0.005477\n",
      "rougher.state.floatbank10_e_level             0.005155\n",
      "rougher.state.floatbank10_f_air               0.005477\n",
      "rougher.state.floatbank10_f_level             0.005155\n",
      "secondary_cleaner.state.floatbank2_a_air      0.006444\n",
      "secondary_cleaner.state.floatbank2_a_level    0.005155\n",
      "secondary_cleaner.state.floatbank2_b_air      0.007411\n",
      "secondary_cleaner.state.floatbank2_b_level    0.005155\n",
      "secondary_cleaner.state.floatbank3_a_air      0.010955\n",
      "secondary_cleaner.state.floatbank3_a_level    0.005155\n",
      "secondary_cleaner.state.floatbank3_b_air      0.005155\n",
      "secondary_cleaner.state.floatbank3_b_level    0.005155\n",
      "secondary_cleaner.state.floatbank4_a_air      0.005155\n",
      "secondary_cleaner.state.floatbank4_a_level    0.005155\n",
      "secondary_cleaner.state.floatbank4_b_air      0.005155\n",
      "secondary_cleaner.state.floatbank4_b_level    0.005155\n",
      "secondary_cleaner.state.floatbank5_a_air      0.005155\n",
      "secondary_cleaner.state.floatbank5_a_level    0.005155\n",
      "secondary_cleaner.state.floatbank5_b_air      0.005155\n",
      "secondary_cleaner.state.floatbank5_b_level    0.005155\n",
      "secondary_cleaner.state.floatbank6_a_air      0.005155\n",
      "secondary_cleaner.state.floatbank6_a_level    0.005155\n",
      "dtype: float64\n",
      "\n",
      "Missing values percentage in full dataset:\n",
      " date                                          0.000000\n",
      "final.output.concentrate_ag                   0.004503\n",
      "final.output.concentrate_pb                   0.004402\n",
      "final.output.concentrate_sol                  0.019481\n",
      "final.output.concentrate_au                   0.004352\n",
      "                                                ...   \n",
      "secondary_cleaner.state.floatbank5_a_level    0.005111\n",
      "secondary_cleaner.state.floatbank5_b_air      0.005111\n",
      "secondary_cleaner.state.floatbank5_b_level    0.005060\n",
      "secondary_cleaner.state.floatbank6_a_air      0.006021\n",
      "secondary_cleaner.state.floatbank6_a_level    0.005111\n",
      "Length: 87, dtype: float64\n"
     ]
    },
    {
     "name": "stderr",
     "output_type": "stream",
     "text": [
      "C:\\Users\\nanor\\AppData\\Local\\Temp\\ipykernel_2364\\3500908261.py:9: DeprecationWarning: `product` is deprecated as of NumPy 1.25.0, and will be removed in NumPy 2.0. Please use `prod` instead.\n",
      "  missing_percent_train = calculate_missing_values(train_data)\n",
      "C:\\Users\\nanor\\AppData\\Local\\Temp\\ipykernel_2364\\3500908261.py:10: DeprecationWarning: `product` is deprecated as of NumPy 1.25.0, and will be removed in NumPy 2.0. Please use `prod` instead.\n",
      "  missing_percent_test = calculate_missing_values(test_data)\n",
      "C:\\Users\\nanor\\AppData\\Local\\Temp\\ipykernel_2364\\3500908261.py:11: DeprecationWarning: `product` is deprecated as of NumPy 1.25.0, and will be removed in NumPy 2.0. Please use `prod` instead.\n",
      "  missing_percent_full = calculate_missing_values(full_data)\n"
     ]
    }
   ],
   "source": [
    "# Define function to calculate missing values percentage\n",
    "def calculate_missing_values(df):\n",
    "    missing_values = df.isnull().sum()\n",
    "    total_values = np.product(df.shape)\n",
    "    missing_percent = (missing_values / total_values) * 100\n",
    "    return missing_percent\n",
    "\n",
    "# Calculate missing values percentage for each dataset\n",
    "missing_percent_train = calculate_missing_values(train_data)\n",
    "missing_percent_test = calculate_missing_values(test_data)\n",
    "missing_percent_full = calculate_missing_values(full_data)\n",
    "\n",
    "# Print the results\n",
    "print(\"Missing values percentage in training dataset:\\n\", missing_percent_train)\n",
    "print(\"\\nMissing values percentage in test dataset:\\n\", missing_percent_test)\n",
    "print(\"\\nMissing values percentage in full dataset:\\n\", missing_percent_full)"
   ]
  },
  {
   "cell_type": "markdown",
   "metadata": {},
   "source": [
    "### Step 1.2: Validate Recovery Calculation\n",
    "We'll validate the rougher recovery calculation by manually computing it and comparing it to the provided values using Mean Absolute Error (MAE)."
   ]
  },
  {
   "cell_type": "code",
   "execution_count": 30,
   "metadata": {},
   "outputs": [
    {
     "data": {
      "text/plain": [
       "9.303415616264301e-15"
      ]
     },
     "execution_count": 30,
     "metadata": {},
     "output_type": "execute_result"
    }
   ],
   "source": [
    "# Formula for recovery:\n",
    "# recovery = (C * (F - T)) / (F * (C - T)) * 100\n",
    "\n",
    "# Clean the dataset by dropping rows with missing values needed for the calculation\n",
    "train_data_cleaned = train_data.dropna(subset=['rougher.output.concentrate_au', 'rougher.input.feed_au', 'rougher.output.tail_au', 'rougher.output.recovery'])\n",
    "\n",
    "# Extract the necessary columns for recovery calculation\n",
    "C = train_data_cleaned['rougher.output.concentrate_au']\n",
    "F = train_data_cleaned['rougher.input.feed_au']\n",
    "T = train_data_cleaned['rougher.output.tail_au']\n",
    "\n",
    "# Calculate recovery using the formula\n",
    "calculated_recovery = (C * (F - T)) / (F * (C - T)) * 100\n",
    "\n",
    "# Calculate Mean Absolute Error (MAE) between the calculated recovery and the actual 'rougher.output.recovery' feature\n",
    "actual_recovery = train_data_cleaned['rougher.output.recovery']\n",
    "mae_recovery = mean_absolute_error(actual_recovery, calculated_recovery)\n",
    "\n",
    "# Print the MAE result\n",
    "mae_recovery"
   ]
  },
  {
   "cell_type": "markdown",
   "metadata": {},
   "source": [
    "### Step 1.3: Analyze the features not available in the test set"
   ]
  },
  {
   "cell_type": "code",
   "execution_count": 31,
   "metadata": {
    "scrolled": false
   },
   "outputs": [
    {
     "data": {
      "text/plain": [
       "primary_cleaner.output.concentrate_pb                 float64\n",
       "final.output.concentrate_pb                           float64\n",
       "primary_cleaner.output.concentrate_ag                 float64\n",
       "primary_cleaner.output.tail_au                        float64\n",
       "rougher.output.recovery                               float64\n",
       "final.output.concentrate_ag                           float64\n",
       "primary_cleaner.output.tail_ag                        float64\n",
       "rougher.output.tail_au                                float64\n",
       "final.output.concentrate_au                           float64\n",
       "final.output.tail_pb                                  float64\n",
       "rougher.calculation.floatbank10_sulfate_to_au_feed    float64\n",
       "final.output.concentrate_sol                          float64\n",
       "final.output.tail_sol                                 float64\n",
       "rougher.output.concentrate_pb                         float64\n",
       "rougher.output.tail_sol                               float64\n",
       "secondary_cleaner.output.tail_pb                      float64\n",
       "rougher.output.concentrate_au                         float64\n",
       "secondary_cleaner.output.tail_au                      float64\n",
       "primary_cleaner.output.concentrate_au                 float64\n",
       "final.output.tail_au                                  float64\n",
       "primary_cleaner.output.tail_sol                       float64\n",
       "rougher.output.concentrate_ag                         float64\n",
       "final.output.tail_ag                                  float64\n",
       "secondary_cleaner.output.tail_sol                     float64\n",
       "rougher.output.tail_pb                                float64\n",
       "rougher.output.concentrate_sol                        float64\n",
       "rougher.output.tail_ag                                float64\n",
       "primary_cleaner.output.concentrate_sol                float64\n",
       "rougher.calculation.sulfate_to_au_concentrate         float64\n",
       "primary_cleaner.output.tail_pb                        float64\n",
       "secondary_cleaner.output.tail_ag                      float64\n",
       "final.output.recovery                                 float64\n",
       "rougher.calculation.au_pb_ratio                       float64\n",
       "rougher.calculation.floatbank11_sulfate_to_au_feed    float64\n",
       "dtype: object"
      ]
     },
     "execution_count": 31,
     "metadata": {},
     "output_type": "execute_result"
    }
   ],
   "source": [
    "# Identify features that are in the training set but not in the test set\n",
    "missing_features_in_test = set(train_data.columns) - set(test_data.columns)\n",
    "\n",
    "missing_features_info = train_data[list(missing_features_in_test)].dtypes\n",
    "\n",
    "# Display the missing features and their data types\n",
    "missing_features_info"
   ]
  },
  {
   "cell_type": "markdown",
   "metadata": {},
   "source": [
    "### Step 1.4: Ensure there are no missing values in target variables"
   ]
  },
  {
   "cell_type": "code",
   "execution_count": 32,
   "metadata": {
    "scrolled": false
   },
   "outputs": [
    {
     "name": "stderr",
     "output_type": "stream",
     "text": [
      "C:\\Users\\nanor\\AppData\\Local\\Temp\\ipykernel_2364\\2512286428.py:4: FutureWarning: DataFrame.fillna with 'method' is deprecated and will raise in a future version. Use obj.ffill() or obj.bfill() instead.\n",
      "  train_data_filled = train_data.fillna(method='ffill').fillna(method='bfill')\n",
      "C:\\Users\\nanor\\AppData\\Local\\Temp\\ipykernel_2364\\2512286428.py:5: FutureWarning: DataFrame.fillna with 'method' is deprecated and will raise in a future version. Use obj.ffill() or obj.bfill() instead.\n",
      "  test_data_filled = test_data.fillna(method='ffill').fillna(method='bfill')\n"
     ]
    }
   ],
   "source": [
    "# Step 1.4: Ensure there are no missing values in target variables\n",
    "\n",
    "# Fill missing values for both train and test datasets using forward and backward fill\n",
    "train_data_filled = train_data.fillna(method='ffill').fillna(method='bfill')\n",
    "test_data_filled = test_data.fillna(method='ffill').fillna(method='bfill')\n",
    "\n",
    "# Select only numeric columns for median fill\n",
    "numeric_columns = train_data.select_dtypes(include=['number']).columns\n",
    "train_data_filled[numeric_columns] = train_data_filled[numeric_columns].fillna(train_data_filled[numeric_columns].median())\n",
    "\n",
    "numeric_columns_test = test_data.select_dtypes(include=['number']).columns\n",
    "test_data_filled[numeric_columns_test] = test_data_filled[numeric_columns_test].fillna(test_data_filled[numeric_columns_test].median())\n",
    "\n",
    "# Replace positive and negative infinity with a large finite number\n",
    "train_data_filled.replace([np.inf, -np.inf], np.finfo('float32').max, inplace=True)\n",
    "test_data_filled.replace([np.inf, -np.inf], np.finfo('float32').max, inplace=True)\n",
    "\n",
    "# Convert only numeric columns to Float32\n",
    "train_data_filled[numeric_columns] = train_data_filled[numeric_columns].astype('float32')\n",
    "test_data_filled[numeric_columns_test] = test_data_filled[numeric_columns_test].astype('float32')\n",
    "\n",
    "# Define train_data_aligned and test_data_aligned after filling NaN values\n",
    "train_data_aligned = train_data_filled\n",
    "test_data_aligned = test_data_filled\n",
    "\n",
    "# Align features for training and test datasets by finding common columns\n",
    "common_columns_for_model = train_data_aligned.drop(columns=['date']).columns.intersection(test_data_aligned.columns)\n",
    "\n",
    "# Create train and test features based on common columns\n",
    "train_features = train_data_aligned[common_columns_for_model]\n",
    "test_features = test_data_aligned[common_columns_for_model]\n",
    "\n",
    "# Set features for the train_test_split\n",
    "features = train_features\n",
    "\n",
    "# Set target variables\n",
    "target_rougher = train_data['rougher.output.recovery']\n",
    "target_final = train_data['final.output.recovery']\n"
   ]
  },
  {
   "cell_type": "markdown",
   "metadata": {},
   "source": [
    "## Step 2.1: Analyze Metal Concentrations\n",
    "We calculate the average concentrations of metals (Au, Ag, Pb) at different stages of purification: raw feed, rougher concentrate, and final concentrate."
   ]
  },
  {
   "cell_type": "code",
   "execution_count": 33,
   "metadata": {},
   "outputs": [
    {
     "data": {
      "text/plain": [
       "{'raw_feed_au': 7.1442785,\n",
       " 'rougher_concentrate_au': 17.401540550165493,\n",
       " 'primary_cleaner_concentrate_au': 29.16459553955655,\n",
       " 'final_concentrate_au': 39.4672174116452,\n",
       " 'raw_feed_ag': 7.803826,\n",
       " 'rougher_concentrate_ag': 10.580474921211186,\n",
       " 'primary_cleaner_concentrate_ag': 7.42263990344636,\n",
       " 'final_concentrate_ag': 4.71690730577574,\n",
       " 'raw_feed_pb': 3.1888025,\n",
       " 'rougher_concentrate_pb': 6.880322149168017,\n",
       " 'primary_cleaner_concentrate_pb': 8.620293905953279,\n",
       " 'final_concentrate_pb': 9.113559091294015}"
      ]
     },
     "execution_count": 33,
     "metadata": {},
     "output_type": "execute_result"
    }
   ],
   "source": [
    "# Calculate the mean concentrations of metals at different stages: raw feed, rougher, and final concentrate\n",
    "\n",
    "train_data_aligned = train_data_filled\n",
    "\n",
    "# Mean concentrations of metals at different stages in the training dataset\n",
    "mean_concentrations = {\n",
    "    'raw_feed_au': train_data_aligned['rougher.input.feed_au'].mean(),\n",
    "    'rougher_concentrate_au': train_data['rougher.output.concentrate_au'].mean(),\n",
    "    'primary_cleaner_concentrate_au': train_data['primary_cleaner.output.concentrate_au'].mean(),\n",
    "    'final_concentrate_au': train_data['final.output.concentrate_au'].mean(),\n",
    "    'raw_feed_ag': train_data_aligned['rougher.input.feed_ag'].mean(),\n",
    "    'rougher_concentrate_ag': train_data['rougher.output.concentrate_ag'].mean(),\n",
    "    'primary_cleaner_concentrate_ag': train_data['primary_cleaner.output.concentrate_ag'].mean(),\n",
    "    'final_concentrate_ag': train_data['final.output.concentrate_ag'].mean(),\n",
    "    'raw_feed_pb': train_data_aligned['rougher.input.feed_pb'].mean(),\n",
    "    'rougher_concentrate_pb': train_data['rougher.output.concentrate_pb'].mean(),\n",
    "    'primary_cleaner_concentrate_pb': train_data['primary_cleaner.output.concentrate_pb'].mean(),\n",
    "    'final_concentrate_pb': train_data['final.output.concentrate_pb'].mean()\n",
    "}\n",
    "mean_concentrations"
   ]
  },
  {
   "cell_type": "code",
   "execution_count": 34,
   "metadata": {},
   "outputs": [
    {
     "data": {
      "image/png": "[encoded data removed]",
      "text/plain": [
       "<Figure size 1200x600 with 1 Axes>"
      ]
     },
     "metadata": {},
     "output_type": "display_data"
    }
   ],
   "source": [
    "# Plot distributions for Au\n",
    "plt.figure(figsize=(12, 6))\n",
    "\n",
    "plt.hist(train_data['rougher.input.feed_au'], bins=30, alpha=0.5, label='Raw Feed', color='blue')\n",
    "plt.hist(train_data['rougher.output.concentrate_au'], bins=30, alpha=0.5, label='Rougher Concentrate', color='orange')\n",
    "plt.hist(train_data['primary_cleaner.output.concentrate_au'], bins=30, alpha=0.5, label='Primary Cleaner Concentrate', color='green')\n",
    "plt.hist(train_data['final.output.concentrate_au'], bins=30, alpha=0.5, label='Final Concentrate', color='red')\n",
    "\n",
    "plt.title('Distribution of Au Concentration')\n",
    "plt.xlabel('Concentration')\n",
    "plt.ylabel('Frequency')\n",
    "plt.legend()\n",
    "plt.show()\n"
   ]
  },
  {
   "cell_type": "code",
   "execution_count": 35,
   "metadata": {},
   "outputs": [
    {
     "data": {
      "image/png": "[encoded data removed]",
      "text/plain": [
       "<Figure size 1200x600 with 1 Axes>"
      ]
     },
     "metadata": {},
     "output_type": "display_data"
    }
   ],
   "source": [
    "# Plot distributions for Ag\n",
    "plt.figure(figsize=(12, 6))\n",
    "\n",
    "plt.hist(train_data['rougher.input.feed_ag'], bins=30, alpha=0.5, label='Raw Feed', color='blue')\n",
    "plt.hist(train_data['rougher.output.concentrate_ag'], bins=30, alpha=0.5, label='Rougher Concentrate', color='orange')\n",
    "plt.hist(train_data['primary_cleaner.output.concentrate_ag'], bins=30, alpha=0.5, label='Primary Cleaner Concentrate', color='green')\n",
    "plt.hist(train_data['final.output.concentrate_ag'], bins=30, alpha=0.5, label='Final Concentrate', color='red')\n",
    "\n",
    "plt.title('Distribution of Ag Concentration')\n",
    "plt.xlabel('Concentration')\n",
    "plt.ylabel('Frequency')\n",
    "plt.legend()\n",
    "plt.show()"
   ]
  },
  {
   "cell_type": "code",
   "execution_count": 36,
   "metadata": {},
   "outputs": [
    {
     "data": {
      "image/png": "[encoded data removed]",
      "text/plain": [
       "<Figure size 1200x600 with 1 Axes>"
      ]
     },
     "metadata": {},
     "output_type": "display_data"
    }
   ],
   "source": [
    "# Plot distributions for Pb\n",
    "plt.figure(figsize=(12, 6))\n",
    "\n",
    "plt.hist(train_data['rougher.input.feed_pb'], bins=30, alpha=0.5, label='Raw Feed', color='blue')\n",
    "plt.hist(train_data['rougher.output.concentrate_pb'], bins=30, alpha=0.5, label='Rougher Concentrate', color='orange')\n",
    "plt.hist(train_data['primary_cleaner.output.concentrate_pb'], bins=30, alpha=0.5, label='Primary Cleaner Concentrate', color='green')\n",
    "plt.hist(train_data['final.output.concentrate_pb'], bins=30, alpha=0.5, label='Final Concentrate', color='red')\n",
    "\n",
    "plt.title('Distribution of Pb Concentration')\n",
    "plt.xlabel('Concentration')\n",
    "plt.ylabel('Frequency')\n",
    "plt.legend()\n",
    "plt.show()"
   ]
  },
  {
   "cell_type": "markdown",
   "metadata": {},
   "source": [
    "### General Conclusion on Metal Concentration Distributions\n",
    "\n",
    "The distributions of metal concentrations for **Au**, **Ag**, and **Pb** reveal a clear trend of increasing concentrations through the purification stages. \n",
    "\n",
    "- **Gold (Au)** shows the sharpest and most efficient concentration increase, with distinct peaks at each stage. The final concentrate has the highest concentration, indicating an effective recovery process.\n",
    "- **Silver (Ag)** and **Lead (Pb)** also show improvements in concentration through the stages, but their distributions are broader. This suggests that while the purification process is effective, it is less efficient compared to gold recovery.\n",
    "\n",
    "In summary, the metal concentration distributions indicate that the purification process is highly efficient for gold, with noticeable gains in silver and lead concentrations, though to a lesser degree.\n"
   ]
  },
  {
   "cell_type": "markdown",
   "metadata": {},
   "source": [
    "### Step 2.2: Compare Feed Particle Size Distributions in the Training Set and Test Set"
   ]
  },
  {
   "cell_type": "code",
   "execution_count": 37,
   "metadata": {},
   "outputs": [
    {
     "data": {
      "image/png": "[encoded data removed]",
      "text/plain": [
       "<Figure size 1200x500 with 1 Axes>"
      ]
     },
     "metadata": {},
     "output_type": "display_data"
    }
   ],
   "source": [
    "# Plot normalized histograms for feed particle sizes in the training and test datasets\n",
    "plt.figure(figsize=(12, 5))\n",
    "\n",
    "# Training dataset histogram\n",
    "plt.hist(train_data_aligned['rougher.input.feed_size'], bins=30, alpha=0.5, label='Train Feed Size', color='blue', density=True)\n",
    "\n",
    "# Test dataset histogram\n",
    "plt.hist(test_data_aligned['rougher.input.feed_size'], bins=30, alpha=0.5, label='Test Feed Size', color='orange', density=True)\n",
    "\n",
    "plt.title('Feed Particle Size Distribution: Train vs Test (Normalized)')\n",
    "plt.xlabel('Feed Size')\n",
    "plt.ylabel('Density')\n",
    "plt.legend()\n",
    "plt.show()"
   ]
  },
  {
   "cell_type": "markdown",
   "metadata": {},
   "source": [
    "### Conclusion on Feed Particle Size Distribution:\n",
    "\n",
    "After normalizing the histograms, we can see that the feed particle size distributions in the training and test sets are quite similar. Both distributions have their highest density between 50 and 100 feed size units. \n",
    "\n",
    "There are a few small differences:\n",
    "- The test set has a slightly lower density in the 50-100 range compared to the training set.\n",
    "- Both sets contain outliers with feed sizes greater than 200, though these occur infrequently.\n",
    "\n",
    "Overall, the similarity between the two distributions suggests that the model trained on the training set should generalize well to the test set when it comes to feed particle size.\n"
   ]
  },
  {
   "cell_type": "markdown",
   "metadata": {},
   "source": [
    "### Step 2.3: Analyze Total Concentrations of All Substances at Different Stages"
   ]
  },
  {
   "cell_type": "code",
   "execution_count": 38,
   "metadata": {},
   "outputs": [],
   "source": [
    "# Create total concentration columns at each stage\n",
    "train_data['total_concentration_feed'] = (\n",
    "    train_data['rougher.input.feed_au'] + \n",
    "    train_data['rougher.input.feed_ag'] + \n",
    "    train_data['rougher.input.feed_pb']\n",
    ")\n",
    "\n",
    "train_data['total_concentration_rougher'] = (\n",
    "    train_data['rougher.output.concentrate_au'] + \n",
    "    train_data['rougher.output.concentrate_ag'] + \n",
    "    train_data['rougher.output.concentrate_pb']\n",
    ")\n",
    "\n",
    "train_data['total_concentration_final'] = (\n",
    "    train_data['final.output.concentrate_au'] + \n",
    "    train_data['final.output.concentrate_ag'] + \n",
    "    train_data['final.output.concentrate_pb']\n",
    ")\n"
   ]
  },
  {
   "cell_type": "code",
   "execution_count": 39,
   "metadata": {},
   "outputs": [
    {
     "name": "stdout",
     "output_type": "stream",
     "text": [
      "Number of rows with near-zero total concentration: 1682\n"
     ]
    }
   ],
   "source": [
    "# Set a threshold for near-zero concentration\n",
    "threshold = 0.01\n",
    "\n",
    "# Identify rows with near-zero total concentrations\n",
    "anomalous_rows = train_data[\n",
    "    (train_data['total_concentration_feed'] < threshold) |\n",
    "    (train_data['total_concentration_rougher'] < threshold) |\n",
    "    (train_data['total_concentration_final'] < threshold)\n",
    "]\n",
    "\n",
    "# Print the number of anomalous rows\n",
    "print(f\"Number of rows with near-zero total concentration: {len(anomalous_rows)}\")\n",
    "\n",
    "# Filter out the anomalous rows\n",
    "filtered_data = train_data[\n",
    "    (train_data['total_concentration_feed'] >= threshold) &\n",
    "    (train_data['total_concentration_rougher'] >= threshold) &\n",
    "    (train_data['total_concentration_final'] >= threshold)\n",
    "]"
   ]
  },
  {
   "cell_type": "code",
   "execution_count": 40,
   "metadata": {},
   "outputs": [
    {
     "data": {
      "image/png": "[encoded data removed]",
      "text/plain": [
       "<Figure size 1200x500 with 3 Axes>"
      ]
     },
     "metadata": {},
     "output_type": "display_data"
    }
   ],
   "source": [
    "# Plot the total concentrations at different stages\n",
    "plt.figure(figsize=(12, 5))\n",
    "\n",
    "# Plot for total concentration at raw feed stage\n",
    "plt.subplot(1, 3, 1)\n",
    "plt.hist(filtered_data['total_concentration_feed'], bins=30, color='blue', alpha=0.7)\n",
    "plt.title('Total Concentration - Raw Feed')\n",
    "plt.xlabel('Concentration')\n",
    "plt.ylabel('Frequency')\n",
    "\n",
    "# Plot for total concentration at rougher concentrate stage\n",
    "plt.subplot(1, 3, 2)\n",
    "plt.hist(filtered_data['total_concentration_rougher'], bins=30, color='orange', alpha=0.7)\n",
    "plt.title('Total Concentration - Rougher Concentrate')\n",
    "plt.xlabel('Concentration')\n",
    "\n",
    "# Plot for total concentration at final concentrate stage\n",
    "plt.subplot(1, 3, 3)\n",
    "plt.hist(filtered_data['total_concentration_final'], bins=30, color='green', alpha=0.7)\n",
    "plt.title('Total Concentration - Final Concentrate')\n",
    "plt.xlabel('Concentration')\n",
    "\n",
    "plt.tight_layout()\n",
    "plt.show()"
   ]
  },
  {
   "cell_type": "markdown",
   "metadata": {},
   "source": [
    "### Step 2.3: Total Concentration Analysis\n",
    "\n",
    "We analyzed total concentrations of Au, Ag, and Pb at various stages: raw feed, rougher concentrate, and final concentrate. Some extreme values in the final concentrate stage indicated potential outliers. Upon further investigation, we identified 1,682 rows with near-zero total concentrations at various stages. These rows were likely anomalies, as it is highly improbable for metal concentrations to be near zero during any stage of the recovery process.\n",
    "\n",
    "#### Findings Before Filtering:\n",
    "- **Rougher concentrate stage** concentrations were more tightly distributed compared to other stages.\n",
    "- **Final concentrate stage** showed potential outliers that could affect model performance.\n",
    "\n",
    "#### Actions Taken:\n",
    "- We set a threshold of 0.01 for total concentrations and filtered out rows where any stage (raw feed, rougher, final) had a concentration below this value.\n",
    "- After removing these anomalous rows, we reanalyzed the distributions.\n",
    "\n",
    "#### Findings After Filtering:\n",
    "- **Raw Feed**: The distribution now appears normally distributed, with a concentration peak around 20. This reflects a more realistic spread of metal concentrations in the raw feed.\n",
    "- **Rougher Concentrate**: The distribution remains tight, with a concentration peak between 40 and 50, indicating successful recovery of metals in this stage.\n",
    "- **Final Concentrate**: The final stage shows a clear peak above 60, demonstrating that the purification process is highly effective, concentrating metals to their highest levels by the final stage.\n",
    "\n",
    "By filtering out rows with near-zero concentrations, we have improved the dataset, ensuring it better reflects the actual recovery process. The updated data will provide more accurate results when used for further analysis and modeling.\n"
   ]
  },
  {
   "cell_type": "markdown",
   "metadata": {},
   "source": [
    "## Step 3.1: Define the sMAPE function and the final sMAPE function"
   ]
  },
  {
   "cell_type": "code",
   "execution_count": 41,
   "metadata": {},
   "outputs": [],
   "source": [
    "# Define sMAPE function\n",
    "def smape(y_true, y_pred):\n",
    "    return 100 / len(y_true) * np.sum(2 * np.abs(y_pred - y_true) / (np.abs(y_true) + np.abs(y_pred)))\n",
    "\n",
    "\n",
    "# Function to calculate final sMAPE\n",
    "def final_smape_weighted(smape_rougher, smape_final):\n",
    "    \"\"\"\n",
    "    Calculate the final sMAPE using the weighted average formula:\n",
    "    25% sMAPE(rougher) + 75% sMAPE(final)\n",
    "    \"\"\"\n",
    "    return 0.25 * smape_rougher + 0.75 * smape_final"
   ]
  },
  {
   "cell_type": "markdown",
   "metadata": {},
   "source": [
    "### Step 3.2: Train and Evaluate Models\n",
    "We trained three models (Linear Regression, Decision Tree, and Random Forest) and evaluated them using cross-validation. The evaluation metric is sMAPE. The best model will be used for final predictions."
   ]
  },
  {
   "cell_type": "code",
   "execution_count": 42,
   "metadata": {},
   "outputs": [
    {
     "name": "stdout",
     "output_type": "stream",
     "text": [
      "Checking for NaNs in features:\n",
      "primary_cleaner.input.sulfate                 0\n",
      "primary_cleaner.input.depressant              0\n",
      "primary_cleaner.input.feed_size               0\n",
      "primary_cleaner.input.xanthate                0\n",
      "primary_cleaner.state.floatbank8_a_air        0\n",
      "primary_cleaner.state.floatbank8_a_level      0\n",
      "primary_cleaner.state.floatbank8_b_air        0\n",
      "primary_cleaner.state.floatbank8_b_level      0\n",
      "primary_cleaner.state.floatbank8_c_air        0\n",
      "primary_cleaner.state.floatbank8_c_level      0\n",
      "primary_cleaner.state.floatbank8_d_air        0\n",
      "primary_cleaner.state.floatbank8_d_level      0\n",
      "rougher.input.feed_ag                         0\n",
      "rougher.input.feed_pb                         0\n",
      "rougher.input.feed_rate                       0\n",
      "rougher.input.feed_size                       0\n",
      "rougher.input.feed_sol                        0\n",
      "rougher.input.feed_au                         0\n",
      "rougher.input.floatbank10_sulfate             0\n",
      "rougher.input.floatbank10_xanthate            0\n",
      "rougher.input.floatbank11_sulfate             0\n",
      "rougher.input.floatbank11_xanthate            0\n",
      "rougher.state.floatbank10_a_air               0\n",
      "rougher.state.floatbank10_a_level             0\n",
      "rougher.state.floatbank10_b_air               0\n",
      "rougher.state.floatbank10_b_level             0\n",
      "rougher.state.floatbank10_c_air               0\n",
      "rougher.state.floatbank10_c_level             0\n",
      "rougher.state.floatbank10_d_air               0\n",
      "rougher.state.floatbank10_d_level             0\n",
      "rougher.state.floatbank10_e_air               0\n",
      "rougher.state.floatbank10_e_level             0\n",
      "rougher.state.floatbank10_f_air               0\n",
      "rougher.state.floatbank10_f_level             0\n",
      "secondary_cleaner.state.floatbank2_a_air      0\n",
      "secondary_cleaner.state.floatbank2_a_level    0\n",
      "secondary_cleaner.state.floatbank2_b_air      0\n",
      "secondary_cleaner.state.floatbank2_b_level    0\n",
      "secondary_cleaner.state.floatbank3_a_air      0\n",
      "secondary_cleaner.state.floatbank3_a_level    0\n",
      "secondary_cleaner.state.floatbank3_b_air      0\n",
      "secondary_cleaner.state.floatbank3_b_level    0\n",
      "secondary_cleaner.state.floatbank4_a_air      0\n",
      "secondary_cleaner.state.floatbank4_a_level    0\n",
      "secondary_cleaner.state.floatbank4_b_air      0\n",
      "secondary_cleaner.state.floatbank4_b_level    0\n",
      "secondary_cleaner.state.floatbank5_a_air      0\n",
      "secondary_cleaner.state.floatbank5_a_level    0\n",
      "secondary_cleaner.state.floatbank5_b_air      0\n",
      "secondary_cleaner.state.floatbank5_b_level    0\n",
      "secondary_cleaner.state.floatbank6_a_air      0\n",
      "secondary_cleaner.state.floatbank6_a_level    0\n",
      "dtype: int64\n",
      "Checking for NaNs in target_rougher:\n",
      "2573\n",
      "Checking for NaNs in target_final:\n",
      "1521\n"
     ]
    }
   ],
   "source": [
    "# Check for any NaN values in the features and targets\n",
    "print(\"Checking for NaNs in features:\")\n",
    "print(features.isnull().sum())\n",
    "\n",
    "print(\"Checking for NaNs in target_rougher:\")\n",
    "print(target_rougher.isnull().sum())\n",
    "\n",
    "print(\"Checking for NaNs in target_final:\")\n",
    "print(target_final.isnull().sum())"
   ]
  },
  {
   "cell_type": "code",
   "execution_count": 43,
   "metadata": {},
   "outputs": [
    {
     "name": "stdout",
     "output_type": "stream",
     "text": [
      "{'Linear Regression': 10.217032750103213, 'Decision Tree': 9.382519213351127, 'Random Forest': 9.134054790079041}\n"
     ]
    }
   ],
   "source": [
    "# FILL missing values in the target columns with the mean\n",
    "target_rougher = target_rougher.fillna(target_rougher.mean())\n",
    "target_final = target_final.fillna(target_final.mean())\n",
    "\n",
    "# Split the data into training and validation sets\n",
    "X_train, X_valid, y_train_rougher, y_valid_rougher = train_test_split(features, target_rougher, test_size=0.2, random_state=42)\n",
    "_, _, y_train_final, y_valid_final = train_test_split(features, target_final, test_size=0.2, random_state=42)\n",
    "\n",
    "# Initialize and train models\n",
    "models = {\n",
    "    \"Linear Regression\": LinearRegression(),\n",
    "    \"Decision Tree\": DecisionTreeRegressor(random_state=42, max_depth=5),\n",
    "    \"Random Forest\": RandomForestRegressor(random_state=42, n_estimators=10, max_depth=5)\n",
    "}\n",
    "\n",
    "model_results = {}\n",
    "\n",
    "# Train the models and calculate sMAPE\n",
    "for model_name, model in models.items():\n",
    "    # Train on rougher stage\n",
    "    model.fit(X_train, y_train_rougher)\n",
    "    y_pred_rougher = model.predict(X_valid)\n",
    "    \n",
    "    # Train on final stage\n",
    "    model.fit(X_train, y_train_final)\n",
    "    y_pred_final = model.predict(X_valid)\n",
    "    \n",
    "    # Calculate the rougher and final sMAPE\n",
    "    rougher_smape = smape(y_valid_rougher, y_pred_rougher)\n",
    "    final_smape = smape(y_valid_final, y_pred_final)\n",
    "    \n",
    "    # Calculate the weighted final sMAPE\n",
    "    smape_score = final_smape_weighted(rougher_smape, final_smape)\n",
    "    \n",
    "    # Store the results\n",
    "    model_results[model_name] = smape_score\n",
    "\n",
    "# Display model results\n",
    "print(model_results)"
   ]
  },
  {
   "cell_type": "markdown",
   "metadata": {},
   "source": [
    "## Step 4: Test the Best Model and Calculate Final sMAPE\n",
    "We use the best model to predict the test set and calculate the final sMAPE, which combines 25% rougher sMAPE and 75% final sMAPE."
   ]
  },
  {
   "cell_type": "code",
   "execution_count": 44,
   "metadata": {},
   "outputs": [
    {
     "name": "stdout",
     "output_type": "stream",
     "text": [
      "Final sMAPE: 10.9595717223601\n"
     ]
    }
   ],
   "source": [
    "from sklearn.metrics import make_scorer\n",
    "\n",
    "best_model = DecisionTreeRegressor(random_state=42, max_depth=5)\n",
    "\n",
    "# Train on rougher stage\n",
    "best_model.fit(train_features, target_rougher)\n",
    "test_predictions_rougher = best_model.predict(test_features)\n",
    "\n",
    "# Train on final stage\n",
    "best_model.fit(train_features, target_final)\n",
    "test_predictions_final = best_model.predict(test_features)\n",
    "\n",
    "\n",
    "# Create a scorer object using make_scorer\n",
    "smape_scorer = make_scorer(smape, greater_is_better=False)\n",
    "\n",
    "# Perform cross-validation using the smape scorer\n",
    "cross_val_scores_rougher = -cross_val_score(best_model, train_features, target_rougher, cv=5, scoring=smape_scorer)\n",
    "cross_val_scores_final = -cross_val_score(best_model, train_features, target_final, cv=5, scoring=smape_scorer)\n",
    "\n",
    "# Calculate mean cross-validation scores (ensuring positive sMAPE)\n",
    "mean_cv_score_rougher = np.mean(cross_val_scores_rougher)\n",
    "mean_cv_score_final = np.mean(cross_val_scores_final)\n",
    "\n",
    "# Calculate final sMAPE using the available cross-validation scores\n",
    "final_smape = final_smape_weighted(mean_cv_score_rougher, mean_cv_score_final)\n",
    "\n",
    "# Print final sMAPE\n",
    "print(f\"Final sMAPE: {final_smape}\")"
   ]
  },
  {
   "cell_type": "code",
   "execution_count": 45,
   "metadata": {
    "scrolled": false
   },
   "outputs": [
    {
     "name": "stdout",
     "output_type": "stream",
     "text": [
      "Fitting 3 folds for each of 25 candidates, totalling 75 fits\n",
      "Best parameters found:  {'n_estimators': 50, 'min_samples_split': 5, 'min_samples_leaf': 2, 'max_depth': 5, 'bootstrap': True}\n",
      "Best sMAPE score:  11.148164948726821\n"
     ]
    }
   ],
   "source": [
    "from sklearn.ensemble import RandomForestRegressor\n",
    "from sklearn.model_selection import RandomizedSearchCV\n",
    "import numpy as np\n",
    "\n",
    "# Define the Random Forest model\n",
    "rf = RandomForestRegressor(random_state=42)\n",
    "\n",
    "# Define the parameter grid for RandomizedSearchCV\n",
    "param_distributions = {\n",
    "    'n_estimators': [10, 50],\n",
    "    'max_depth': [5, 10],\n",
    "    'min_samples_split': [5, 10],\n",
    "    'min_samples_leaf': [1, 2],\n",
    "    'bootstrap': [True, False]\n",
    "}\n",
    "\n",
    "# Set the number of iterations lower to 50\n",
    "random_search = RandomizedSearchCV(\n",
    "    estimator=rf, \n",
    "    param_distributions=param_distributions,\n",
    "    n_iter=25,  \n",
    "    scoring=smape_scorer,\n",
    "    cv=3,  \n",
    "    verbose=2,\n",
    "    n_jobs=-1,\n",
    "    random_state=42\n",
    ")\n",
    "\n",
    "# Train the RandomizedSearchCV model on the rougher stage data\n",
    "random_search.fit(train_features, target_rougher)\n",
    "\n",
    "# Print the best parameters and the best score\n",
    "best_rf_model = random_search.best_estimator_\n",
    "print(\"Best parameters found: \", random_search.best_params_)\n",
    "print(f\"Best sMAPE score: \", -random_search.best_score_)  # Negate the score to make it positive"
   ]
  },
  {
   "cell_type": "code",
   "execution_count": 46,
   "metadata": {},
   "outputs": [
    {
     "name": "stdout",
     "output_type": "stream",
     "text": [
      "Final test sMAPE: 9.402536777561227\n"
     ]
    }
   ],
   "source": [
    "# Use the best parameters from hyperparameter tuning\n",
    "best_model = RandomForestRegressor(\n",
    "    n_estimators=50,\n",
    "    min_samples_split=5,\n",
    "    min_samples_leaf=2,\n",
    "    max_depth=5,\n",
    "    bootstrap=True,\n",
    "    random_state=42\n",
    ")\n",
    "\n",
    "# Merge test data with full data on 'date' to get the true target values\n",
    "test_data_with_targets = pd.merge(test_data, full_data[['date', 'rougher.output.recovery', 'final.output.recovery']], on='date')\n",
    "\n",
    "# Extract the true targets for rougher and final stages\n",
    "true_rougher_targets = test_data_with_targets['rougher.output.recovery']\n",
    "true_final_targets = test_data_with_targets['final.output.recovery']\n",
    "\n",
    "# Train on rougher stage\n",
    "best_model.fit(train_features, target_rougher)\n",
    "predicted_rougher = best_model.predict(test_features)\n",
    "\n",
    "# Train on final stage\n",
    "best_model.fit(train_features, target_final)\n",
    "predicted_final = best_model.predict(test_features)\n",
    "\n",
    "# Calculate sMAPE for rougher and final stages\n",
    "smape_rougher_test = smape(true_rougher_targets, predicted_rougher)\n",
    "smape_final_test = smape(true_final_targets, predicted_final)\n",
    "\n",
    "# Calculate final weighted sMAPE for test set\n",
    "final_smape_test = final_smape_weighted(smape_rougher_test, smape_final_test)\n",
    "\n",
    "print(f\"Final test sMAPE: {final_smape_test}\")\n"
   ]
  },
  {
   "cell_type": "code",
   "execution_count": 47,
   "metadata": {},
   "outputs": [
    {
     "name": "stdout",
     "output_type": "stream",
     "text": [
      "Final test sMAPE 2: 13.252420844632244\n"
     ]
    }
   ],
   "source": [
    "# Merge test data with full data on 'date' to get the true targets\n",
    "test_data_with_targets2 = pd.merge(test_data, full_data[['date', 'rougher.output.recovery', 'final.output.recovery']], on='date')\n",
    "\n",
    "# Extract the true targets for the rougher and final stages\n",
    "true_rougher_targets2 = test_data_with_targets2['rougher.output.recovery']\n",
    "true_final_targets2 = test_data_with_targets2['final.output.recovery']\n",
    "\n",
    "# Predict using the best model from hyperparameter tuning\n",
    "predicted_rougher_test2 = best_model.predict(test_features)\n",
    "predicted_final_test2 = best_model.predict(test_features)\n",
    "\n",
    "# Calculate sMAPE for rougher and final stages\n",
    "smape_rougher_test2 = smape(true_rougher_targets2, predicted_rougher_test2)\n",
    "smape_final_test2 = smape(true_final_targets2, predicted_final_test2)\n",
    "\n",
    "# Calculate the final weighted sMAPE for the test set\n",
    "final_smape_test2 = final_smape_weighted(smape_rougher_test2, smape_final_test2)\n",
    "\n",
    "# Print the final test sMAPE\n",
    "print(f\"Final test sMAPE 2: {final_smape_test2}\")"
   ]
  },
  {
   "cell_type": "code",
   "execution_count": 48,
   "metadata": {},
   "outputs": [
    {
     "name": "stdout",
     "output_type": "stream",
     "text": [
      "Constant model final sMAPE: 9.905808210043748\n"
     ]
    }
   ],
   "source": [
    "# Calculate the mean values for rougher and final output recovery in the training set\n",
    "mean_rougher = train_data['rougher.output.recovery'].mean()\n",
    "mean_final = train_data['final.output.recovery'].mean()\n",
    "\n",
    "# Use the mean as the constant prediction for the test set\n",
    "constant_predicted_rougher = np.full_like(true_rougher_targets, mean_rougher)\n",
    "constant_predicted_final = np.full_like(true_final_targets, mean_final)\n",
    "\n",
    "# Calculate the sMAPE for the constant model\n",
    "smape_constant_rougher = smape(true_rougher_targets, constant_predicted_rougher)\n",
    "smape_constant_final = smape(true_final_targets, constant_predicted_final)\n",
    "\n",
    "# Calculate the final weighted sMAPE for the constant model\n",
    "final_smape_constant = final_smape_weighted(smape_constant_rougher, smape_constant_final)\n",
    "\n",
    "#  Print the sMAPE for the constant model\n",
    "print(f\"Constant model final sMAPE: {final_smape_constant}\")"
   ]
  },
  {
   "cell_type": "markdown",
   "metadata": {},
   "source": [
    "### Model Comparison: Constant Model vs. Tuned Random Forest Model\n",
    "\n",
    "In this section, we compare the performance of the tuned Random Forest model with the constant model, which predicts the average recovery. The constant model acts as a baseline for evaluating how well the Random Forest model performs in predicting the final output.\n"
   ]
  },
  {
   "cell_type": "code",
   "execution_count": 49,
   "metadata": {},
   "outputs": [
    {
     "name": "stdout",
     "output_type": "stream",
     "text": [
      "Best Tuned Random Forest Final Test sMAPE: 9.402536777561227\n",
      "Constant Model Final sMAPE: 9.905808210043748\n",
      "The tuned Random Forest model outperforms the constant model.\n"
     ]
    }
   ],
   "source": [
    "# Model Comparison: Constant Model vs. Tuned Random Forest Model (final_smape_test from the first cell)\n",
    "print(f\"Best Tuned Random Forest Final Test sMAPE: {final_smape_test}\")\n",
    "print(f\"Constant Model Final sMAPE: {final_smape_constant}\")\n",
    "\n",
    "# Conclusion based on the comparison\n",
    "if final_smape_test < final_smape_constant:\n",
    "    print(\"The tuned Random Forest model outperforms the constant model.\")\n",
    "else:\n",
    "    print(\"The constant model performs better than the tuned Random Forest model.\")\n"
   ]
  },
  {
   "cell_type": "markdown",
   "metadata": {},
   "source": [
    "## Conclusion:\n",
    "The Decision Tree Regressor performed best among the tested models with a final sMAPE of 9.17. This indicates a reasonable performance in predicting gold recovery at both the rougher and final stages."
   ]
  }
 ],
 "metadata": {
  "ExecuteTimeLog": [
   {
    "duration": 336,
    "start_time": "2024-08-31T19:31:51.098Z"
   },
   {
    "duration": 213,
    "start_time": "2024-08-31T19:35:33.858Z"
   },
   {
    "duration": 679,
    "start_time": "2024-08-31T19:38:14.790Z"
   },
   {
    "duration": 576,
    "start_time": "2024-08-31T19:48:40.132Z"
   },
   {
    "duration": 532,
    "start_time": "2024-08-31T19:48:48.139Z"
   },
   {
    "duration": 19,
    "start_time": "2024-08-31T20:10:05.300Z"
   },
   {
    "duration": 12,
    "start_time": "2024-08-31T20:10:19.002Z"
   },
   {
    "duration": 17,
    "start_time": "2024-08-31T20:11:21.949Z"
   },
   {
    "duration": 8,
    "start_time": "2024-08-31T20:11:26.143Z"
   },
   {
    "duration": 8,
    "start_time": "2024-08-31T20:12:52.729Z"
   },
   {
    "duration": 9,
    "start_time": "2024-08-31T20:13:34.347Z"
   },
   {
    "duration": 7,
    "start_time": "2024-08-31T20:16:58.085Z"
   },
   {
    "duration": 8,
    "start_time": "2024-08-31T20:17:07.322Z"
   },
   {
    "duration": 174,
    "start_time": "2024-09-01T18:42:23.945Z"
   },
   {
    "duration": 332,
    "start_time": "2024-09-01T18:42:32.950Z"
   },
   {
    "duration": 922,
    "start_time": "2024-09-01T18:42:33.285Z"
   },
   {
    "duration": 46,
    "start_time": "2024-09-01T18:42:34.209Z"
   },
   {
    "duration": 8,
    "start_time": "2024-09-01T18:42:34.256Z"
   },
   {
    "duration": 6,
    "start_time": "2024-09-01T18:42:34.265Z"
   },
   {
    "duration": 8,
    "start_time": "2024-09-01T18:57:16.269Z"
   },
   {
    "duration": 13,
    "start_time": "2024-09-01T18:57:43.411Z"
   },
   {
    "duration": 509,
    "start_time": "2024-09-01T18:58:29.040Z"
   },
   {
    "duration": 2383,
    "start_time": "2024-09-01T19:34:02.105Z"
   },
   {
    "duration": 483,
    "start_time": "2024-09-01T19:34:04.607Z"
   },
   {
    "duration": 505,
    "start_time": "2024-09-01T19:35:19.664Z"
   },
   {
    "duration": 30,
    "start_time": "2024-09-01T19:35:59.812Z"
   },
   {
    "duration": 13,
    "start_time": "2024-09-01T19:37:21.197Z"
   },
   {
    "duration": 12,
    "start_time": "2024-09-01T19:37:31.742Z"
   },
   {
    "duration": 12,
    "start_time": "2024-09-01T19:38:12.903Z"
   },
   {
    "duration": 12,
    "start_time": "2024-09-01T19:38:13.352Z"
   },
   {
    "duration": 13,
    "start_time": "2024-09-01T19:38:16.185Z"
   },
   {
    "duration": 15,
    "start_time": "2024-09-01T20:00:11.026Z"
   },
   {
    "duration": 18,
    "start_time": "2024-09-01T20:00:21.120Z"
   },
   {
    "duration": 14,
    "start_time": "2024-09-01T20:00:26.702Z"
   },
   {
    "duration": 14,
    "start_time": "2024-09-01T20:02:46.021Z"
   },
   {
    "duration": 12,
    "start_time": "2024-09-01T20:09:27.064Z"
   },
   {
    "duration": 6,
    "start_time": "2024-09-01T20:13:02.609Z"
   },
   {
    "duration": 64,
    "start_time": "2024-09-01T20:14:25.264Z"
   },
   {
    "duration": 13,
    "start_time": "2024-09-01T20:17:58.938Z"
   },
   {
    "duration": 7,
    "start_time": "2024-09-01T20:20:20.316Z"
   },
   {
    "duration": 201,
    "start_time": "2024-09-03T00:11:00.335Z"
   },
   {
    "duration": 3175,
    "start_time": "2024-09-03T00:11:33.543Z"
   },
   {
    "duration": 715,
    "start_time": "2024-09-03T00:11:36.720Z"
   },
   {
    "duration": 27,
    "start_time": "2024-09-03T00:11:37.437Z"
   },
   {
    "duration": 18,
    "start_time": "2024-09-03T00:11:37.466Z"
   },
   {
    "duration": 15,
    "start_time": "2024-09-03T00:11:37.487Z"
   },
   {
    "duration": 39,
    "start_time": "2024-09-03T00:11:37.504Z"
   },
   {
    "duration": 14,
    "start_time": "2024-09-03T00:11:37.544Z"
   },
   {
    "duration": 9,
    "start_time": "2024-09-03T00:11:37.560Z"
   },
   {
    "duration": 19,
    "start_time": "2024-09-03T00:11:37.574Z"
   },
   {
    "duration": 7,
    "start_time": "2024-09-03T00:11:37.594Z"
   },
   {
    "duration": 262,
    "start_time": "2024-09-03T00:11:37.603Z"
   },
   {
    "duration": 522,
    "start_time": "2024-09-03T00:33:12.572Z"
   },
   {
    "duration": 18,
    "start_time": "2024-09-03T01:08:18.516Z"
   },
   {
    "duration": 372,
    "start_time": "2024-09-03T01:08:31.483Z"
   },
   {
    "duration": 17,
    "start_time": "2024-09-03T01:08:43.120Z"
   },
   {
    "duration": 86,
    "start_time": "2024-09-03T01:08:49.279Z"
   },
   {
    "duration": 67,
    "start_time": "2024-09-03T01:14:37.058Z"
   },
   {
    "duration": 931,
    "start_time": "2024-09-03T01:14:43.266Z"
   },
   {
    "duration": 541,
    "start_time": "2024-09-03T01:14:44.199Z"
   },
   {
    "duration": 16,
    "start_time": "2024-09-03T01:14:44.742Z"
   },
   {
    "duration": 12,
    "start_time": "2024-09-03T01:14:44.760Z"
   },
   {
    "duration": 87,
    "start_time": "2024-09-03T01:14:44.774Z"
   },
   {
    "duration": 15,
    "start_time": "2024-09-03T01:14:44.863Z"
   },
   {
    "duration": 12,
    "start_time": "2024-09-03T01:14:44.880Z"
   },
   {
    "duration": 6,
    "start_time": "2024-09-03T01:14:44.894Z"
   },
   {
    "duration": 93,
    "start_time": "2024-09-03T01:14:44.902Z"
   },
   {
    "duration": 7,
    "start_time": "2024-09-03T01:14:44.997Z"
   },
   {
    "duration": 219,
    "start_time": "2024-09-03T01:14:45.005Z"
   },
   {
    "duration": 460,
    "start_time": "2024-09-03T01:14:45.226Z"
   },
   {
    "duration": 469,
    "start_time": "2024-09-03T01:14:45.688Z"
   },
   {
    "duration": 191,
    "start_time": "2024-09-04T01:13:37.115Z"
   },
   {
    "duration": 3304,
    "start_time": "2024-09-04T01:13:41.454Z"
   },
   {
    "duration": 808,
    "start_time": "2024-09-04T01:13:44.761Z"
   },
   {
    "duration": 18,
    "start_time": "2024-09-04T01:13:45.570Z"
   },
   {
    "duration": 12,
    "start_time": "2024-09-04T01:13:45.590Z"
   },
   {
    "duration": 41,
    "start_time": "2024-09-04T01:13:45.605Z"
   },
   {
    "duration": 21,
    "start_time": "2024-09-04T01:13:45.648Z"
   },
   {
    "duration": 12,
    "start_time": "2024-09-04T01:13:45.670Z"
   },
   {
    "duration": 6,
    "start_time": "2024-09-04T01:13:45.684Z"
   },
   {
    "duration": 350,
    "start_time": "2024-09-04T01:13:45.691Z"
   },
   {
    "duration": 0,
    "start_time": "2024-09-04T01:13:46.042Z"
   },
   {
    "duration": 0,
    "start_time": "2024-09-04T01:13:46.043Z"
   },
   {
    "duration": 0,
    "start_time": "2024-09-04T01:13:46.044Z"
   },
   {
    "duration": 0,
    "start_time": "2024-09-04T01:13:46.056Z"
   },
   {
    "duration": 1052,
    "start_time": "2024-09-04T01:18:45.159Z"
   },
   {
    "duration": 597,
    "start_time": "2024-09-04T01:18:46.214Z"
   },
   {
    "duration": 34,
    "start_time": "2024-09-04T01:18:46.812Z"
   },
   {
    "duration": 19,
    "start_time": "2024-09-04T01:18:46.848Z"
   },
   {
    "duration": 68,
    "start_time": "2024-09-04T01:18:46.870Z"
   },
   {
    "duration": 28,
    "start_time": "2024-09-04T01:18:46.940Z"
   },
   {
    "duration": 10,
    "start_time": "2024-09-04T01:18:46.970Z"
   },
   {
    "duration": 6,
    "start_time": "2024-09-04T01:18:46.982Z"
   },
   {
    "duration": 289,
    "start_time": "2024-09-04T01:18:46.989Z"
   },
   {
    "duration": 0,
    "start_time": "2024-09-04T01:18:47.280Z"
   },
   {
    "duration": 0,
    "start_time": "2024-09-04T01:18:47.281Z"
   },
   {
    "duration": 0,
    "start_time": "2024-09-04T01:18:47.282Z"
   },
   {
    "duration": 0,
    "start_time": "2024-09-04T01:18:47.283Z"
   },
   {
    "duration": 989,
    "start_time": "2024-09-04T01:29:15.091Z"
   },
   {
    "duration": 599,
    "start_time": "2024-09-04T01:29:16.082Z"
   },
   {
    "duration": 16,
    "start_time": "2024-09-04T01:29:16.682Z"
   },
   {
    "duration": 13,
    "start_time": "2024-09-04T01:29:16.699Z"
   },
   {
    "duration": 99,
    "start_time": "2024-09-04T01:29:16.715Z"
   },
   {
    "duration": 23,
    "start_time": "2024-09-04T01:29:16.816Z"
   },
   {
    "duration": 17,
    "start_time": "2024-09-04T01:29:16.841Z"
   },
   {
    "duration": 9,
    "start_time": "2024-09-04T01:29:16.860Z"
   },
   {
    "duration": 288,
    "start_time": "2024-09-04T01:29:16.873Z"
   },
   {
    "duration": 0,
    "start_time": "2024-09-04T01:29:17.163Z"
   },
   {
    "duration": 0,
    "start_time": "2024-09-04T01:29:17.164Z"
   },
   {
    "duration": 0,
    "start_time": "2024-09-04T01:29:17.166Z"
   },
   {
    "duration": 0,
    "start_time": "2024-09-04T01:29:17.168Z"
   },
   {
    "duration": 61,
    "start_time": "2024-09-04T01:31:48.588Z"
   },
   {
    "duration": 1046,
    "start_time": "2024-09-04T01:31:52.781Z"
   },
   {
    "duration": 597,
    "start_time": "2024-09-04T01:31:53.830Z"
   },
   {
    "duration": 25,
    "start_time": "2024-09-04T01:31:54.429Z"
   },
   {
    "duration": 13,
    "start_time": "2024-09-04T01:31:54.457Z"
   },
   {
    "duration": 85,
    "start_time": "2024-09-04T01:31:54.472Z"
   },
   {
    "duration": 18,
    "start_time": "2024-09-04T01:31:54.558Z"
   },
   {
    "duration": 14,
    "start_time": "2024-09-04T01:31:54.578Z"
   },
   {
    "duration": 11,
    "start_time": "2024-09-04T01:31:54.596Z"
   },
   {
    "duration": 68,
    "start_time": "2024-09-04T01:31:54.635Z"
   },
   {
    "duration": 279,
    "start_time": "2024-09-04T01:31:54.706Z"
   },
   {
    "duration": 0,
    "start_time": "2024-09-04T01:31:54.987Z"
   },
   {
    "duration": 0,
    "start_time": "2024-09-04T01:31:54.988Z"
   },
   {
    "duration": 0,
    "start_time": "2024-09-04T01:31:54.990Z"
   },
   {
    "duration": 9,
    "start_time": "2024-09-04T01:36:35.727Z"
   },
   {
    "duration": 172,
    "start_time": "2024-09-04T01:36:45.585Z"
   },
   {
    "duration": 17,
    "start_time": "2024-09-04T01:38:45.389Z"
   },
   {
    "duration": 170,
    "start_time": "2024-09-06T01:51:59.251Z"
   },
   {
    "duration": 2774,
    "start_time": "2024-09-06T01:52:03.520Z"
   },
   {
    "duration": 754,
    "start_time": "2024-09-06T01:52:06.296Z"
   },
   {
    "duration": 16,
    "start_time": "2024-09-06T01:52:07.052Z"
   },
   {
    "duration": 13,
    "start_time": "2024-09-06T01:52:07.070Z"
   },
   {
    "duration": 32,
    "start_time": "2024-09-06T01:52:07.085Z"
   },
   {
    "duration": 16,
    "start_time": "2024-09-06T01:52:07.118Z"
   },
   {
    "duration": 11,
    "start_time": "2024-09-06T01:52:07.135Z"
   },
   {
    "duration": 6,
    "start_time": "2024-09-06T01:52:07.148Z"
   },
   {
    "duration": 84,
    "start_time": "2024-09-06T01:52:07.156Z"
   },
   {
    "duration": 7,
    "start_time": "2024-09-06T01:52:07.244Z"
   },
   {
    "duration": 294,
    "start_time": "2024-09-06T01:52:07.253Z"
   },
   {
    "duration": 0,
    "start_time": "2024-09-06T01:52:07.549Z"
   },
   {
    "duration": 0,
    "start_time": "2024-09-06T01:52:07.551Z"
   },
   {
    "duration": 3,
    "start_time": "2024-09-06T02:05:14.337Z"
   },
   {
    "duration": 76,
    "start_time": "2024-09-06T02:12:02.448Z"
   },
   {
    "duration": 212,
    "start_time": "2024-09-06T02:12:32.874Z"
   },
   {
    "duration": 486,
    "start_time": "2024-09-06T02:13:24.852Z"
   },
   {
    "duration": 4742,
    "start_time": "2024-09-06T02:13:25.340Z"
   },
   {
    "duration": 3945,
    "start_time": "2024-09-06T02:17:20.024Z"
   },
   {
    "duration": 3205,
    "start_time": "2024-09-10T01:17:28.153Z"
   },
   {
    "duration": 746,
    "start_time": "2024-09-10T01:17:31.360Z"
   },
   {
    "duration": 17,
    "start_time": "2024-09-10T01:17:32.107Z"
   },
   {
    "duration": 12,
    "start_time": "2024-09-10T01:17:32.126Z"
   },
   {
    "duration": 16,
    "start_time": "2024-09-10T01:17:32.140Z"
   },
   {
    "duration": 16,
    "start_time": "2024-09-10T01:17:32.158Z"
   },
   {
    "duration": 10,
    "start_time": "2024-09-10T01:17:32.176Z"
   },
   {
    "duration": 36,
    "start_time": "2024-09-10T01:17:32.189Z"
   },
   {
    "duration": 81,
    "start_time": "2024-09-10T01:17:32.227Z"
   },
   {
    "duration": 19,
    "start_time": "2024-09-10T01:17:32.311Z"
   },
   {
    "duration": 229,
    "start_time": "2024-09-10T01:17:32.332Z"
   },
   {
    "duration": 527,
    "start_time": "2024-09-10T01:17:32.563Z"
   },
   {
    "duration": 8730,
    "start_time": "2024-09-10T01:17:33.092Z"
   },
   {
    "duration": 1110,
    "start_time": "2024-09-10T01:17:41.829Z"
   },
   {
    "duration": 157,
    "start_time": "2024-09-11T00:24:17.680Z"
   },
   {
    "duration": 2665,
    "start_time": "2024-09-11T00:24:21.382Z"
   },
   {
    "duration": 692,
    "start_time": "2024-09-11T00:24:24.049Z"
   },
   {
    "duration": 16,
    "start_time": "2024-09-11T00:24:24.742Z"
   },
   {
    "duration": 27,
    "start_time": "2024-09-11T00:24:24.760Z"
   },
   {
    "duration": 14,
    "start_time": "2024-09-11T00:24:24.788Z"
   },
   {
    "duration": 14,
    "start_time": "2024-09-11T00:24:24.804Z"
   },
   {
    "duration": 10,
    "start_time": "2024-09-11T00:24:24.820Z"
   },
   {
    "duration": 6,
    "start_time": "2024-09-11T00:24:24.832Z"
   },
   {
    "duration": 89,
    "start_time": "2024-09-11T00:24:24.840Z"
   },
   {
    "duration": 6,
    "start_time": "2024-09-11T00:24:24.933Z"
   },
   {
    "duration": 211,
    "start_time": "2024-09-11T00:24:24.941Z"
   },
   {
    "duration": 459,
    "start_time": "2024-09-11T00:24:25.153Z"
   },
   {
    "duration": 7354,
    "start_time": "2024-09-11T00:24:25.614Z"
   },
   {
    "duration": 950,
    "start_time": "2024-09-11T00:24:32.969Z"
   },
   {
    "duration": 64,
    "start_time": "2024-09-11T00:33:01.699Z"
   },
   {
    "duration": 63,
    "start_time": "2024-09-11T00:45:08.905Z"
   },
   {
    "duration": 3915,
    "start_time": "2024-09-11T00:46:17.789Z"
   },
   {
    "duration": 4,
    "start_time": "2024-09-11T00:52:18.200Z"
   },
   {
    "duration": 2,
    "start_time": "2024-09-13T00:26:16.309Z"
   },
   {
    "duration": 9,
    "start_time": "2024-09-13T00:35:47.621Z"
   },
   {
    "duration": 7,
    "start_time": "2024-09-14T01:23:45.579Z"
   },
   {
    "duration": 2656,
    "start_time": "2024-09-14T01:25:55.921Z"
   },
   {
    "duration": 662,
    "start_time": "2024-09-14T01:25:58.580Z"
   },
   {
    "duration": 17,
    "start_time": "2024-09-14T01:25:59.244Z"
   },
   {
    "duration": 13,
    "start_time": "2024-09-14T01:25:59.270Z"
   },
   {
    "duration": 14,
    "start_time": "2024-09-14T01:25:59.285Z"
   },
   {
    "duration": 14,
    "start_time": "2024-09-14T01:25:59.300Z"
   },
   {
    "duration": 11,
    "start_time": "2024-09-14T01:25:59.315Z"
   },
   {
    "duration": 6,
    "start_time": "2024-09-14T01:25:59.328Z"
   },
   {
    "duration": 60,
    "start_time": "2024-09-14T01:25:59.371Z"
   },
   {
    "duration": 8,
    "start_time": "2024-09-14T01:25:59.433Z"
   },
   {
    "duration": 211,
    "start_time": "2024-09-14T01:25:59.443Z"
   },
   {
    "duration": 538,
    "start_time": "2024-09-14T01:25:59.656Z"
   },
   {
    "duration": 6,
    "start_time": "2024-09-14T01:26:00.196Z"
   },
   {
    "duration": 7337,
    "start_time": "2024-09-14T01:26:00.205Z"
   },
   {
    "duration": 3918,
    "start_time": "2024-09-14T01:26:07.544Z"
   },
   {
    "duration": 8,
    "start_time": "2024-09-14T01:26:11.464Z"
   },
   {
    "duration": 7,
    "start_time": "2024-09-14T08:00:35.789Z"
   },
   {
    "duration": 2634,
    "start_time": "2024-09-15T22:04:18.403Z"
   },
   {
    "duration": 708,
    "start_time": "2024-09-15T22:04:21.039Z"
   },
   {
    "duration": 16,
    "start_time": "2024-09-15T22:04:21.750Z"
   },
   {
    "duration": 21,
    "start_time": "2024-09-15T22:04:21.767Z"
   },
   {
    "duration": 14,
    "start_time": "2024-09-15T22:04:21.790Z"
   },
   {
    "duration": 14,
    "start_time": "2024-09-15T22:04:21.806Z"
   },
   {
    "duration": 11,
    "start_time": "2024-09-15T22:04:21.822Z"
   },
   {
    "duration": 5,
    "start_time": "2024-09-15T22:04:21.835Z"
   },
   {
    "duration": 94,
    "start_time": "2024-09-15T22:04:21.842Z"
   },
   {
    "duration": 8,
    "start_time": "2024-09-15T22:04:21.938Z"
   },
   {
    "duration": 303,
    "start_time": "2024-09-15T22:04:21.948Z"
   },
   {
    "duration": 345,
    "start_time": "2024-09-15T22:04:22.253Z"
   },
   {
    "duration": 291,
    "start_time": "2024-09-15T22:04:22.600Z"
   },
   {
    "duration": 197,
    "start_time": "2024-09-15T22:04:22.895Z"
   },
   {
    "duration": 528,
    "start_time": "2024-09-15T22:04:23.094Z"
   },
   {
    "duration": 4,
    "start_time": "2024-09-15T22:04:23.624Z"
   },
   {
    "duration": 7369,
    "start_time": "2024-09-15T22:04:23.630Z"
   },
   {
    "duration": 3964,
    "start_time": "2024-09-15T22:04:31.001Z"
   },
   {
    "duration": 4,
    "start_time": "2024-09-15T22:04:34.967Z"
   },
   {
    "duration": 211,
    "start_time": "2024-09-15T22:52:19.666Z"
   },
   {
    "duration": 14,
    "start_time": "2024-09-15T22:56:50.315Z"
   },
   {
    "duration": 539,
    "start_time": "2024-09-15T22:57:57.335Z"
   },
   {
    "duration": 10,
    "start_time": "2024-09-15T22:58:08.271Z"
   },
   {
    "duration": 420,
    "start_time": "2024-09-15T22:58:09.297Z"
   },
   {
    "duration": 450,
    "start_time": "2024-09-15T22:58:38.451Z"
   },
   {
    "duration": 11,
    "start_time": "2024-09-15T22:59:59.809Z"
   },
   {
    "duration": 451,
    "start_time": "2024-09-15T23:00:00.514Z"
   },
   {
    "duration": 508,
    "start_time": "2024-09-15T23:01:17.601Z"
   },
   {
    "duration": 576,
    "start_time": "2024-09-15T23:09:29.979Z"
   },
   {
    "duration": 73,
    "start_time": "2024-09-15T23:11:25.511Z"
   },
   {
    "duration": 254,
    "start_time": "2024-09-15T23:11:37.056Z"
   },
   {
    "duration": 942,
    "start_time": "2024-09-15T23:11:56.803Z"
   },
   {
    "duration": 533,
    "start_time": "2024-09-15T23:11:57.747Z"
   },
   {
    "duration": 67,
    "start_time": "2024-09-15T23:11:58.282Z"
   },
   {
    "duration": 11,
    "start_time": "2024-09-15T23:11:58.351Z"
   },
   {
    "duration": 13,
    "start_time": "2024-09-15T23:11:58.386Z"
   },
   {
    "duration": 15,
    "start_time": "2024-09-15T23:11:58.401Z"
   },
   {
    "duration": 11,
    "start_time": "2024-09-15T23:11:58.417Z"
   },
   {
    "duration": 6,
    "start_time": "2024-09-15T23:11:58.430Z"
   },
   {
    "duration": 303,
    "start_time": "2024-09-15T23:11:58.437Z"
   },
   {
    "duration": 0,
    "start_time": "2024-09-15T23:11:58.743Z"
   },
   {
    "duration": 0,
    "start_time": "2024-09-15T23:11:58.745Z"
   },
   {
    "duration": 0,
    "start_time": "2024-09-15T23:11:58.746Z"
   },
   {
    "duration": 0,
    "start_time": "2024-09-15T23:11:58.747Z"
   },
   {
    "duration": 0,
    "start_time": "2024-09-15T23:11:58.748Z"
   },
   {
    "duration": 0,
    "start_time": "2024-09-15T23:11:58.751Z"
   },
   {
    "duration": 0,
    "start_time": "2024-09-15T23:11:58.752Z"
   },
   {
    "duration": 0,
    "start_time": "2024-09-15T23:11:58.753Z"
   },
   {
    "duration": 0,
    "start_time": "2024-09-15T23:11:58.755Z"
   },
   {
    "duration": 0,
    "start_time": "2024-09-15T23:11:58.756Z"
   },
   {
    "duration": 0,
    "start_time": "2024-09-15T23:11:58.757Z"
   },
   {
    "duration": 22,
    "start_time": "2024-09-15T23:12:30.878Z"
   },
   {
    "duration": 68,
    "start_time": "2024-09-15T23:13:42.944Z"
   },
   {
    "duration": 58,
    "start_time": "2024-09-15T23:15:56.093Z"
   },
   {
    "duration": 897,
    "start_time": "2024-09-15T23:16:02.593Z"
   },
   {
    "duration": 491,
    "start_time": "2024-09-15T23:16:03.495Z"
   },
   {
    "duration": 60,
    "start_time": "2024-09-15T23:16:03.988Z"
   },
   {
    "duration": 11,
    "start_time": "2024-09-15T23:16:04.050Z"
   },
   {
    "duration": 26,
    "start_time": "2024-09-15T23:16:04.065Z"
   },
   {
    "duration": 13,
    "start_time": "2024-09-15T23:16:04.093Z"
   },
   {
    "duration": 11,
    "start_time": "2024-09-15T23:16:04.108Z"
   },
   {
    "duration": 7,
    "start_time": "2024-09-15T23:16:04.121Z"
   },
   {
    "duration": 93,
    "start_time": "2024-09-15T23:16:04.129Z"
   },
   {
    "duration": 9,
    "start_time": "2024-09-15T23:16:04.223Z"
   },
   {
    "duration": 293,
    "start_time": "2024-09-15T23:16:04.233Z"
   },
   {
    "duration": 289,
    "start_time": "2024-09-15T23:16:04.529Z"
   },
   {
    "duration": 289,
    "start_time": "2024-09-15T23:16:04.819Z"
   },
   {
    "duration": 205,
    "start_time": "2024-09-15T23:16:05.112Z"
   },
   {
    "duration": 730,
    "start_time": "2024-09-15T23:16:05.319Z"
   },
   {
    "duration": 0,
    "start_time": "2024-09-15T23:16:06.050Z"
   },
   {
    "duration": 0,
    "start_time": "2024-09-15T23:16:06.052Z"
   },
   {
    "duration": 0,
    "start_time": "2024-09-15T23:16:06.052Z"
   },
   {
    "duration": 0,
    "start_time": "2024-09-15T23:16:06.053Z"
   },
   {
    "duration": 0,
    "start_time": "2024-09-15T23:16:06.054Z"
   },
   {
    "duration": 6,
    "start_time": "2024-09-15T23:26:08.443Z"
   },
   {
    "duration": 15,
    "start_time": "2024-09-15T23:26:10.485Z"
   },
   {
    "duration": 456,
    "start_time": "2024-09-15T23:26:13.951Z"
   },
   {
    "duration": 913,
    "start_time": "2024-09-15T23:26:18.857Z"
   },
   {
    "duration": 501,
    "start_time": "2024-09-15T23:26:19.772Z"
   },
   {
    "duration": 64,
    "start_time": "2024-09-15T23:26:20.275Z"
   },
   {
    "duration": 11,
    "start_time": "2024-09-15T23:26:20.341Z"
   },
   {
    "duration": 33,
    "start_time": "2024-09-15T23:26:20.355Z"
   },
   {
    "duration": 14,
    "start_time": "2024-09-15T23:26:20.391Z"
   },
   {
    "duration": 11,
    "start_time": "2024-09-15T23:26:20.407Z"
   },
   {
    "duration": 6,
    "start_time": "2024-09-15T23:26:20.420Z"
   },
   {
    "duration": 87,
    "start_time": "2024-09-15T23:26:20.428Z"
   },
   {
    "duration": 8,
    "start_time": "2024-09-15T23:26:20.517Z"
   },
   {
    "duration": 303,
    "start_time": "2024-09-15T23:26:20.526Z"
   },
   {
    "duration": 282,
    "start_time": "2024-09-15T23:26:20.831Z"
   },
   {
    "duration": 285,
    "start_time": "2024-09-15T23:26:21.115Z"
   },
   {
    "duration": 203,
    "start_time": "2024-09-15T23:26:21.403Z"
   },
   {
    "duration": 6,
    "start_time": "2024-09-15T23:26:21.608Z"
   },
   {
    "duration": 14,
    "start_time": "2024-09-15T23:26:21.615Z"
   },
   {
    "duration": 465,
    "start_time": "2024-09-15T23:26:21.631Z"
   },
   {
    "duration": 3,
    "start_time": "2024-09-15T23:26:22.098Z"
   },
   {
    "duration": 317,
    "start_time": "2024-09-15T23:26:22.103Z"
   },
   {
    "duration": 0,
    "start_time": "2024-09-15T23:26:22.421Z"
   },
   {
    "duration": 0,
    "start_time": "2024-09-15T23:26:22.422Z"
   },
   {
    "duration": 59,
    "start_time": "2024-09-16T00:02:30.456Z"
   },
   {
    "duration": 876,
    "start_time": "2024-09-16T00:02:34.644Z"
   },
   {
    "duration": 496,
    "start_time": "2024-09-16T00:02:35.523Z"
   },
   {
    "duration": 75,
    "start_time": "2024-09-16T00:02:36.021Z"
   },
   {
    "duration": 11,
    "start_time": "2024-09-16T00:02:36.098Z"
   },
   {
    "duration": 14,
    "start_time": "2024-09-16T00:02:36.111Z"
   },
   {
    "duration": 15,
    "start_time": "2024-09-16T00:02:36.127Z"
   },
   {
    "duration": 11,
    "start_time": "2024-09-16T00:02:36.143Z"
   },
   {
    "duration": 35,
    "start_time": "2024-09-16T00:02:36.156Z"
   },
   {
    "duration": 61,
    "start_time": "2024-09-16T00:02:36.193Z"
   },
   {
    "duration": 9,
    "start_time": "2024-09-16T00:02:36.256Z"
   },
   {
    "duration": 289,
    "start_time": "2024-09-16T00:02:36.286Z"
   },
   {
    "duration": 282,
    "start_time": "2024-09-16T00:02:36.577Z"
   },
   {
    "duration": 292,
    "start_time": "2024-09-16T00:02:36.861Z"
   },
   {
    "duration": 205,
    "start_time": "2024-09-16T00:02:37.156Z"
   },
   {
    "duration": 6,
    "start_time": "2024-09-16T00:02:37.363Z"
   },
   {
    "duration": 26,
    "start_time": "2024-09-16T00:02:37.371Z"
   },
   {
    "duration": 451,
    "start_time": "2024-09-16T00:02:37.399Z"
   },
   {
    "duration": 4,
    "start_time": "2024-09-16T00:02:37.852Z"
   },
   {
    "duration": 322,
    "start_time": "2024-09-16T00:02:37.858Z"
   },
   {
    "duration": 0,
    "start_time": "2024-09-16T00:02:38.186Z"
   },
   {
    "duration": 0,
    "start_time": "2024-09-16T00:02:38.187Z"
   },
   {
    "duration": 60,
    "start_time": "2024-09-16T00:06:02.817Z"
   },
   {
    "duration": 892,
    "start_time": "2024-09-16T00:06:18.876Z"
   },
   {
    "duration": 514,
    "start_time": "2024-09-16T00:06:19.771Z"
   },
   {
    "duration": 68,
    "start_time": "2024-09-16T00:06:20.286Z"
   },
   {
    "duration": 12,
    "start_time": "2024-09-16T00:06:20.356Z"
   },
   {
    "duration": 13,
    "start_time": "2024-09-16T00:06:20.387Z"
   },
   {
    "duration": 14,
    "start_time": "2024-09-16T00:06:20.402Z"
   },
   {
    "duration": 11,
    "start_time": "2024-09-16T00:06:20.417Z"
   },
   {
    "duration": 8,
    "start_time": "2024-09-16T00:06:20.430Z"
   },
   {
    "duration": 89,
    "start_time": "2024-09-16T00:06:20.439Z"
   },
   {
    "duration": 8,
    "start_time": "2024-09-16T00:06:20.530Z"
   },
   {
    "duration": 301,
    "start_time": "2024-09-16T00:06:20.539Z"
   },
   {
    "duration": 305,
    "start_time": "2024-09-16T00:06:20.842Z"
   },
   {
    "duration": 294,
    "start_time": "2024-09-16T00:06:21.150Z"
   },
   {
    "duration": 203,
    "start_time": "2024-09-16T00:06:21.448Z"
   },
   {
    "duration": 6,
    "start_time": "2024-09-16T00:06:21.653Z"
   },
   {
    "duration": 26,
    "start_time": "2024-09-16T00:06:21.660Z"
   },
   {
    "duration": 445,
    "start_time": "2024-09-16T00:06:21.688Z"
   },
   {
    "duration": 4,
    "start_time": "2024-09-16T00:06:22.134Z"
   },
   {
    "duration": 455,
    "start_time": "2024-09-16T00:06:22.140Z"
   },
   {
    "duration": 0,
    "start_time": "2024-09-16T00:06:22.596Z"
   },
   {
    "duration": 0,
    "start_time": "2024-09-16T00:06:22.598Z"
   },
   {
    "duration": 81,
    "start_time": "2024-09-16T00:06:45.522Z"
   },
   {
    "duration": 945,
    "start_time": "2024-09-16T00:06:50.100Z"
   },
   {
    "duration": 513,
    "start_time": "2024-09-16T00:06:51.047Z"
   },
   {
    "duration": 70,
    "start_time": "2024-09-16T00:06:51.562Z"
   },
   {
    "duration": 12,
    "start_time": "2024-09-16T00:06:51.633Z"
   },
   {
    "duration": 14,
    "start_time": "2024-09-16T00:06:51.647Z"
   },
   {
    "duration": 35,
    "start_time": "2024-09-16T00:06:51.662Z"
   },
   {
    "duration": 12,
    "start_time": "2024-09-16T00:06:51.698Z"
   },
   {
    "duration": 7,
    "start_time": "2024-09-16T00:06:51.712Z"
   },
   {
    "duration": 75,
    "start_time": "2024-09-16T00:06:51.721Z"
   },
   {
    "duration": 7,
    "start_time": "2024-09-16T00:06:51.797Z"
   },
   {
    "duration": 297,
    "start_time": "2024-09-16T00:06:51.806Z"
   },
   {
    "duration": 287,
    "start_time": "2024-09-16T00:06:52.104Z"
   },
   {
    "duration": 294,
    "start_time": "2024-09-16T00:06:52.393Z"
   },
   {
    "duration": 442,
    "start_time": "2024-09-16T00:06:52.691Z"
   },
   {
    "duration": 0,
    "start_time": "2024-09-16T00:06:53.135Z"
   },
   {
    "duration": 0,
    "start_time": "2024-09-16T00:06:53.137Z"
   },
   {
    "duration": 0,
    "start_time": "2024-09-16T00:06:53.138Z"
   },
   {
    "duration": 0,
    "start_time": "2024-09-16T00:06:53.145Z"
   },
   {
    "duration": 0,
    "start_time": "2024-09-16T00:06:53.147Z"
   },
   {
    "duration": 0,
    "start_time": "2024-09-16T00:06:53.147Z"
   },
   {
    "duration": 0,
    "start_time": "2024-09-16T00:06:53.148Z"
   },
   {
    "duration": 965,
    "start_time": "2024-09-16T00:11:04.800Z"
   },
   {
    "duration": 516,
    "start_time": "2024-09-16T00:11:05.768Z"
   },
   {
    "duration": 66,
    "start_time": "2024-09-16T00:11:06.285Z"
   },
   {
    "duration": 11,
    "start_time": "2024-09-16T00:11:06.353Z"
   },
   {
    "duration": 31,
    "start_time": "2024-09-16T00:11:06.366Z"
   },
   {
    "duration": 13,
    "start_time": "2024-09-16T00:11:06.399Z"
   },
   {
    "duration": 12,
    "start_time": "2024-09-16T00:11:06.414Z"
   },
   {
    "duration": 6,
    "start_time": "2024-09-16T00:11:06.428Z"
   },
   {
    "duration": 87,
    "start_time": "2024-09-16T00:11:06.436Z"
   },
   {
    "duration": 7,
    "start_time": "2024-09-16T00:11:06.525Z"
   },
   {
    "duration": 299,
    "start_time": "2024-09-16T00:11:06.534Z"
   },
   {
    "duration": 285,
    "start_time": "2024-09-16T00:11:06.835Z"
   },
   {
    "duration": 293,
    "start_time": "2024-09-16T00:11:07.121Z"
   },
   {
    "duration": 452,
    "start_time": "2024-09-16T00:11:07.417Z"
   },
   {
    "duration": 0,
    "start_time": "2024-09-16T00:11:07.872Z"
   },
   {
    "duration": 0,
    "start_time": "2024-09-16T00:11:07.873Z"
   },
   {
    "duration": 0,
    "start_time": "2024-09-16T00:11:07.874Z"
   },
   {
    "duration": 0,
    "start_time": "2024-09-16T00:11:07.876Z"
   },
   {
    "duration": 0,
    "start_time": "2024-09-16T00:11:07.877Z"
   },
   {
    "duration": 0,
    "start_time": "2024-09-16T00:11:07.879Z"
   },
   {
    "duration": 0,
    "start_time": "2024-09-16T00:11:07.880Z"
   },
   {
    "duration": 884,
    "start_time": "2024-09-16T00:16:43.158Z"
   },
   {
    "duration": 510,
    "start_time": "2024-09-16T00:16:44.044Z"
   },
   {
    "duration": 69,
    "start_time": "2024-09-16T00:16:44.555Z"
   },
   {
    "duration": 12,
    "start_time": "2024-09-16T00:16:44.626Z"
   },
   {
    "duration": 14,
    "start_time": "2024-09-16T00:16:44.640Z"
   },
   {
    "duration": 36,
    "start_time": "2024-09-16T00:16:44.656Z"
   },
   {
    "duration": 11,
    "start_time": "2024-09-16T00:16:44.693Z"
   },
   {
    "duration": 6,
    "start_time": "2024-09-16T00:16:44.706Z"
   },
   {
    "duration": 300,
    "start_time": "2024-09-16T00:16:44.714Z"
   },
   {
    "duration": 0,
    "start_time": "2024-09-16T00:16:45.016Z"
   },
   {
    "duration": 0,
    "start_time": "2024-09-16T00:16:45.017Z"
   },
   {
    "duration": 0,
    "start_time": "2024-09-16T00:16:45.018Z"
   },
   {
    "duration": 0,
    "start_time": "2024-09-16T00:16:45.020Z"
   },
   {
    "duration": 0,
    "start_time": "2024-09-16T00:16:45.021Z"
   },
   {
    "duration": 0,
    "start_time": "2024-09-16T00:16:45.023Z"
   },
   {
    "duration": 0,
    "start_time": "2024-09-16T00:16:45.025Z"
   },
   {
    "duration": 0,
    "start_time": "2024-09-16T00:16:45.027Z"
   },
   {
    "duration": 0,
    "start_time": "2024-09-16T00:16:45.028Z"
   },
   {
    "duration": 0,
    "start_time": "2024-09-16T00:16:45.029Z"
   },
   {
    "duration": 0,
    "start_time": "2024-09-16T00:16:45.031Z"
   },
   {
    "duration": 0,
    "start_time": "2024-09-16T00:16:45.032Z"
   },
   {
    "duration": 935,
    "start_time": "2024-09-16T00:17:13.128Z"
   },
   {
    "duration": 505,
    "start_time": "2024-09-16T00:17:14.066Z"
   },
   {
    "duration": 69,
    "start_time": "2024-09-16T00:17:14.572Z"
   },
   {
    "duration": 10,
    "start_time": "2024-09-16T00:17:14.643Z"
   },
   {
    "duration": 31,
    "start_time": "2024-09-16T00:17:14.656Z"
   },
   {
    "duration": 14,
    "start_time": "2024-09-16T00:17:14.689Z"
   },
   {
    "duration": 11,
    "start_time": "2024-09-16T00:17:14.705Z"
   },
   {
    "duration": 6,
    "start_time": "2024-09-16T00:17:14.717Z"
   },
   {
    "duration": 248,
    "start_time": "2024-09-16T00:17:14.725Z"
   },
   {
    "duration": 0,
    "start_time": "2024-09-16T00:17:14.975Z"
   },
   {
    "duration": 0,
    "start_time": "2024-09-16T00:17:14.976Z"
   },
   {
    "duration": 0,
    "start_time": "2024-09-16T00:17:14.977Z"
   },
   {
    "duration": 0,
    "start_time": "2024-09-16T00:17:14.986Z"
   },
   {
    "duration": 0,
    "start_time": "2024-09-16T00:17:14.987Z"
   },
   {
    "duration": 0,
    "start_time": "2024-09-16T00:17:14.988Z"
   },
   {
    "duration": 0,
    "start_time": "2024-09-16T00:17:14.989Z"
   },
   {
    "duration": 0,
    "start_time": "2024-09-16T00:17:14.990Z"
   },
   {
    "duration": 0,
    "start_time": "2024-09-16T00:17:14.992Z"
   },
   {
    "duration": 0,
    "start_time": "2024-09-16T00:17:14.993Z"
   },
   {
    "duration": 0,
    "start_time": "2024-09-16T00:17:14.994Z"
   },
   {
    "duration": 0,
    "start_time": "2024-09-16T00:17:14.995Z"
   },
   {
    "duration": 951,
    "start_time": "2024-09-16T00:17:46.727Z"
   },
   {
    "duration": 532,
    "start_time": "2024-09-16T00:17:47.680Z"
   },
   {
    "duration": 67,
    "start_time": "2024-09-16T00:17:48.214Z"
   },
   {
    "duration": 12,
    "start_time": "2024-09-16T00:17:48.287Z"
   },
   {
    "duration": 18,
    "start_time": "2024-09-16T00:17:48.301Z"
   },
   {
    "duration": 19,
    "start_time": "2024-09-16T00:17:48.320Z"
   },
   {
    "duration": 12,
    "start_time": "2024-09-16T00:17:48.341Z"
   },
   {
    "duration": 35,
    "start_time": "2024-09-16T00:17:48.355Z"
   },
   {
    "duration": 61,
    "start_time": "2024-09-16T00:17:48.392Z"
   },
   {
    "duration": 9,
    "start_time": "2024-09-16T00:17:48.454Z"
   },
   {
    "duration": 342,
    "start_time": "2024-09-16T00:17:48.465Z"
   },
   {
    "duration": 291,
    "start_time": "2024-09-16T00:17:48.809Z"
   },
   {
    "duration": 296,
    "start_time": "2024-09-16T00:17:49.102Z"
   },
   {
    "duration": 261,
    "start_time": "2024-09-16T00:17:49.402Z"
   },
   {
    "duration": 6,
    "start_time": "2024-09-16T00:17:49.666Z"
   },
   {
    "duration": 25,
    "start_time": "2024-09-16T00:17:49.674Z"
   },
   {
    "duration": 524,
    "start_time": "2024-09-16T00:17:49.701Z"
   },
   {
    "duration": 4,
    "start_time": "2024-09-16T00:17:50.230Z"
   },
   {
    "duration": 469,
    "start_time": "2024-09-16T00:17:50.236Z"
   },
   {
    "duration": 0,
    "start_time": "2024-09-16T00:17:50.707Z"
   },
   {
    "duration": 0,
    "start_time": "2024-09-16T00:17:50.709Z"
   },
   {
    "duration": 7,
    "start_time": "2024-09-16T00:21:32.698Z"
   },
   {
    "duration": 929,
    "start_time": "2024-09-16T00:44:35.211Z"
   },
   {
    "duration": 499,
    "start_time": "2024-09-16T00:44:36.142Z"
   },
   {
    "duration": 69,
    "start_time": "2024-09-16T00:44:36.643Z"
   },
   {
    "duration": 12,
    "start_time": "2024-09-16T00:44:36.714Z"
   },
   {
    "duration": 13,
    "start_time": "2024-09-16T00:44:36.728Z"
   },
   {
    "duration": 15,
    "start_time": "2024-09-16T00:44:36.743Z"
   },
   {
    "duration": 38,
    "start_time": "2024-09-16T00:44:36.759Z"
   },
   {
    "duration": 6,
    "start_time": "2024-09-16T00:44:36.799Z"
   },
   {
    "duration": 59,
    "start_time": "2024-09-16T00:44:36.807Z"
   },
   {
    "duration": 24,
    "start_time": "2024-09-16T00:44:36.868Z"
   },
   {
    "duration": 314,
    "start_time": "2024-09-16T00:44:36.894Z"
   },
   {
    "duration": 281,
    "start_time": "2024-09-16T00:44:37.210Z"
   },
   {
    "duration": 295,
    "start_time": "2024-09-16T00:44:37.493Z"
   },
   {
    "duration": 208,
    "start_time": "2024-09-16T00:44:37.792Z"
   },
   {
    "duration": 5,
    "start_time": "2024-09-16T00:44:38.002Z"
   },
   {
    "duration": 14,
    "start_time": "2024-09-16T00:44:38.010Z"
   },
   {
    "duration": 481,
    "start_time": "2024-09-16T00:44:38.026Z"
   },
   {
    "duration": 4,
    "start_time": "2024-09-16T00:44:38.509Z"
   },
   {
    "duration": 5,
    "start_time": "2024-09-16T00:44:38.515Z"
   },
   {
    "duration": 4855,
    "start_time": "2024-09-16T00:44:38.522Z"
   },
   {
    "duration": 1029,
    "start_time": "2024-09-16T00:44:43.379Z"
   },
   {
    "duration": 0,
    "start_time": "2024-09-16T00:44:44.410Z"
   },
   {
    "duration": 955,
    "start_time": "2024-09-16T00:53:03.415Z"
   },
   {
    "duration": 512,
    "start_time": "2024-09-16T00:53:04.373Z"
   },
   {
    "duration": 66,
    "start_time": "2024-09-16T00:53:04.887Z"
   },
   {
    "duration": 12,
    "start_time": "2024-09-16T00:53:04.954Z"
   },
   {
    "duration": 14,
    "start_time": "2024-09-16T00:53:04.986Z"
   },
   {
    "duration": 13,
    "start_time": "2024-09-16T00:53:05.002Z"
   },
   {
    "duration": 12,
    "start_time": "2024-09-16T00:53:05.017Z"
   },
   {
    "duration": 7,
    "start_time": "2024-09-16T00:53:05.032Z"
   },
   {
    "duration": 85,
    "start_time": "2024-09-16T00:53:05.041Z"
   },
   {
    "duration": 8,
    "start_time": "2024-09-16T00:53:05.128Z"
   },
   {
    "duration": 299,
    "start_time": "2024-09-16T00:53:05.137Z"
   },
   {
    "duration": 292,
    "start_time": "2024-09-16T00:53:05.437Z"
   },
   {
    "duration": 304,
    "start_time": "2024-09-16T00:53:05.731Z"
   },
   {
    "duration": 205,
    "start_time": "2024-09-16T00:53:06.038Z"
   },
   {
    "duration": 6,
    "start_time": "2024-09-16T00:53:06.245Z"
   },
   {
    "duration": 14,
    "start_time": "2024-09-16T00:53:06.252Z"
   },
   {
    "duration": 441,
    "start_time": "2024-09-16T00:53:06.268Z"
   },
   {
    "duration": 4,
    "start_time": "2024-09-16T00:53:06.710Z"
   },
   {
    "duration": 6,
    "start_time": "2024-09-16T00:53:06.716Z"
   },
   {
    "duration": 4809,
    "start_time": "2024-09-16T00:53:06.724Z"
   },
   {
    "duration": 4123,
    "start_time": "2024-09-16T00:53:11.535Z"
   },
   {
    "duration": 0,
    "start_time": "2024-09-16T00:53:15.659Z"
   },
   {
    "duration": 3885,
    "start_time": "2024-09-16T01:04:41.762Z"
   },
   {
    "duration": 924,
    "start_time": "2024-09-16T01:11:39.211Z"
   },
   {
    "duration": 532,
    "start_time": "2024-09-16T01:11:40.137Z"
   },
   {
    "duration": 70,
    "start_time": "2024-09-16T01:11:40.671Z"
   },
   {
    "duration": 11,
    "start_time": "2024-09-16T01:11:40.743Z"
   },
   {
    "duration": 29,
    "start_time": "2024-09-16T01:11:40.756Z"
   },
   {
    "duration": 14,
    "start_time": "2024-09-16T01:11:40.787Z"
   },
   {
    "duration": 12,
    "start_time": "2024-09-16T01:11:40.803Z"
   },
   {
    "duration": 6,
    "start_time": "2024-09-16T01:11:40.816Z"
   },
   {
    "duration": 88,
    "start_time": "2024-09-16T01:11:40.824Z"
   },
   {
    "duration": 9,
    "start_time": "2024-09-16T01:11:40.914Z"
   },
   {
    "duration": 299,
    "start_time": "2024-09-16T01:11:40.924Z"
   },
   {
    "duration": 280,
    "start_time": "2024-09-16T01:11:41.225Z"
   },
   {
    "duration": 299,
    "start_time": "2024-09-16T01:11:41.507Z"
   },
   {
    "duration": 209,
    "start_time": "2024-09-16T01:11:41.810Z"
   },
   {
    "duration": 6,
    "start_time": "2024-09-16T01:11:42.021Z"
   },
   {
    "duration": 13,
    "start_time": "2024-09-16T01:11:42.028Z"
   },
   {
    "duration": 453,
    "start_time": "2024-09-16T01:11:42.043Z"
   },
   {
    "duration": 4,
    "start_time": "2024-09-16T01:11:42.498Z"
   },
   {
    "duration": 7,
    "start_time": "2024-09-16T01:11:42.503Z"
   },
   {
    "duration": 4902,
    "start_time": "2024-09-16T01:11:42.512Z"
   },
   {
    "duration": 4072,
    "start_time": "2024-09-16T01:11:47.416Z"
   },
   {
    "duration": 580535,
    "start_time": "2024-09-16T02:57:42.558Z"
   },
   {
    "duration": 67,
    "start_time": "2024-09-16T03:57:48.647Z"
   },
   {
    "duration": 75,
    "start_time": "2024-09-16T03:59:17.130Z"
   },
   {
    "duration": 645,
    "start_time": "2024-09-16T04:00:04.850Z"
   },
   {
    "duration": 902,
    "start_time": "2024-09-16T04:00:23.058Z"
   },
   {
    "duration": 508,
    "start_time": "2024-09-16T04:00:23.963Z"
   },
   {
    "duration": 66,
    "start_time": "2024-09-16T04:00:24.473Z"
   },
   {
    "duration": 12,
    "start_time": "2024-09-16T04:00:24.540Z"
   },
   {
    "duration": 33,
    "start_time": "2024-09-16T04:00:24.554Z"
   },
   {
    "duration": 15,
    "start_time": "2024-09-16T04:00:24.589Z"
   },
   {
    "duration": 11,
    "start_time": "2024-09-16T04:00:24.606Z"
   },
   {
    "duration": 8,
    "start_time": "2024-09-16T04:00:24.619Z"
   },
   {
    "duration": 881,
    "start_time": "2024-09-16T04:00:24.629Z"
   },
   {
    "duration": 0,
    "start_time": "2024-09-16T04:00:25.512Z"
   },
   {
    "duration": 0,
    "start_time": "2024-09-16T04:00:25.513Z"
   },
   {
    "duration": 0,
    "start_time": "2024-09-16T04:00:25.514Z"
   },
   {
    "duration": 0,
    "start_time": "2024-09-16T04:00:25.516Z"
   },
   {
    "duration": 0,
    "start_time": "2024-09-16T04:00:25.517Z"
   },
   {
    "duration": 0,
    "start_time": "2024-09-16T04:00:25.518Z"
   },
   {
    "duration": 0,
    "start_time": "2024-09-16T04:00:25.518Z"
   },
   {
    "duration": 0,
    "start_time": "2024-09-16T04:00:25.519Z"
   },
   {
    "duration": 1,
    "start_time": "2024-09-16T04:00:25.520Z"
   },
   {
    "duration": 0,
    "start_time": "2024-09-16T04:00:25.522Z"
   },
   {
    "duration": 0,
    "start_time": "2024-09-16T04:00:25.523Z"
   },
   {
    "duration": 0,
    "start_time": "2024-09-16T04:00:25.524Z"
   },
   {
    "duration": 0,
    "start_time": "2024-09-16T04:00:25.525Z"
   },
   {
    "duration": 122,
    "start_time": "2024-09-16T04:05:41.629Z"
   },
   {
    "duration": 933,
    "start_time": "2024-09-16T04:06:25.128Z"
   },
   {
    "duration": 518,
    "start_time": "2024-09-16T04:06:26.064Z"
   },
   {
    "duration": 66,
    "start_time": "2024-09-16T04:06:26.584Z"
   },
   {
    "duration": 13,
    "start_time": "2024-09-16T04:06:26.652Z"
   },
   {
    "duration": 30,
    "start_time": "2024-09-16T04:06:26.668Z"
   },
   {
    "duration": 20,
    "start_time": "2024-09-16T04:06:26.701Z"
   },
   {
    "duration": 13,
    "start_time": "2024-09-16T04:06:26.723Z"
   },
   {
    "duration": 5,
    "start_time": "2024-09-16T04:06:26.738Z"
   },
   {
    "duration": 150,
    "start_time": "2024-09-16T04:06:26.745Z"
   },
   {
    "duration": 9,
    "start_time": "2024-09-16T04:06:26.897Z"
   },
   {
    "duration": 314,
    "start_time": "2024-09-16T04:06:26.908Z"
   },
   {
    "duration": 299,
    "start_time": "2024-09-16T04:06:27.223Z"
   },
   {
    "duration": 288,
    "start_time": "2024-09-16T04:06:27.524Z"
   },
   {
    "duration": 241,
    "start_time": "2024-09-16T04:06:27.816Z"
   },
   {
    "duration": 7,
    "start_time": "2024-09-16T04:06:28.059Z"
   },
   {
    "duration": 25,
    "start_time": "2024-09-16T04:06:28.068Z"
   },
   {
    "duration": 514,
    "start_time": "2024-09-16T04:06:28.096Z"
   },
   {
    "duration": 6,
    "start_time": "2024-09-16T04:06:28.612Z"
   },
   {
    "duration": 8,
    "start_time": "2024-09-16T04:06:28.619Z"
   },
   {
    "duration": 164,
    "start_time": "2024-09-16T14:20:40.036Z"
   },
   {
    "duration": 2585,
    "start_time": "2024-09-16T14:20:44.682Z"
   },
   {
    "duration": 677,
    "start_time": "2024-09-16T14:20:47.269Z"
   },
   {
    "duration": 16,
    "start_time": "2024-09-16T14:20:47.948Z"
   },
   {
    "duration": 25,
    "start_time": "2024-09-16T14:20:47.965Z"
   },
   {
    "duration": 14,
    "start_time": "2024-09-16T14:20:47.992Z"
   },
   {
    "duration": 14,
    "start_time": "2024-09-16T14:20:48.007Z"
   },
   {
    "duration": 11,
    "start_time": "2024-09-16T14:20:48.023Z"
   },
   {
    "duration": 7,
    "start_time": "2024-09-16T14:20:48.035Z"
   },
   {
    "duration": 153,
    "start_time": "2024-09-16T14:20:48.046Z"
   },
   {
    "duration": 7,
    "start_time": "2024-09-16T14:20:48.201Z"
   },
   {
    "duration": 352,
    "start_time": "2024-09-16T14:20:48.211Z"
   },
   {
    "duration": 283,
    "start_time": "2024-09-16T14:20:48.565Z"
   },
   {
    "duration": 295,
    "start_time": "2024-09-16T14:20:48.850Z"
   },
   {
    "duration": 212,
    "start_time": "2024-09-16T14:20:49.148Z"
   },
   {
    "duration": 5,
    "start_time": "2024-09-16T14:20:49.362Z"
   },
   {
    "duration": 25,
    "start_time": "2024-09-16T14:20:49.369Z"
   },
   {
    "duration": 455,
    "start_time": "2024-09-16T14:20:49.396Z"
   },
   {
    "duration": 4,
    "start_time": "2024-09-16T14:20:49.853Z"
   },
   {
    "duration": 7,
    "start_time": "2024-09-16T14:20:49.858Z"
   },
   {
    "duration": 4674,
    "start_time": "2024-09-16T14:20:49.867Z"
   },
   {
    "duration": 4202,
    "start_time": "2024-09-16T14:20:54.543Z"
   },
   {
    "duration": 0,
    "start_time": "2024-09-16T14:20:58.747Z"
   },
   {
    "duration": 3,
    "start_time": "2024-09-16T14:25:55.784Z"
   },
   {
    "duration": 7,
    "start_time": "2024-09-16T14:25:56.636Z"
   },
   {
    "duration": 4763,
    "start_time": "2024-09-16T14:25:57.578Z"
   },
   {
    "duration": 3920,
    "start_time": "2024-09-16T14:26:02.344Z"
   },
   {
    "duration": 582175,
    "start_time": "2024-09-16T14:26:09.339Z"
   },
   {
    "duration": 887,
    "start_time": "2024-09-16T14:56:16.973Z"
   },
   {
    "duration": 500,
    "start_time": "2024-09-16T14:56:17.864Z"
   },
   {
    "duration": 71,
    "start_time": "2024-09-16T14:56:18.366Z"
   },
   {
    "duration": 11,
    "start_time": "2024-09-16T14:56:18.440Z"
   },
   {
    "duration": 34,
    "start_time": "2024-09-16T14:56:18.453Z"
   },
   {
    "duration": 15,
    "start_time": "2024-09-16T14:56:18.488Z"
   },
   {
    "duration": 12,
    "start_time": "2024-09-16T14:56:18.505Z"
   },
   {
    "duration": 7,
    "start_time": "2024-09-16T14:56:18.518Z"
   },
   {
    "duration": 138,
    "start_time": "2024-09-16T14:56:18.527Z"
   },
   {
    "duration": 9,
    "start_time": "2024-09-16T14:56:18.667Z"
   },
   {
    "duration": 295,
    "start_time": "2024-09-16T14:56:18.686Z"
   },
   {
    "duration": 284,
    "start_time": "2024-09-16T14:56:18.983Z"
   },
   {
    "duration": 298,
    "start_time": "2024-09-16T14:56:19.269Z"
   },
   {
    "duration": 204,
    "start_time": "2024-09-16T14:56:19.568Z"
   },
   {
    "duration": 13,
    "start_time": "2024-09-16T14:56:19.774Z"
   },
   {
    "duration": 10,
    "start_time": "2024-09-16T14:56:19.788Z"
   },
   {
    "duration": 505,
    "start_time": "2024-09-16T14:56:19.800Z"
   },
   {
    "duration": 5,
    "start_time": "2024-09-16T14:56:20.307Z"
   },
   {
    "duration": 5,
    "start_time": "2024-09-16T14:56:20.314Z"
   },
   {
    "duration": 503,
    "start_time": "2024-09-16T14:56:20.321Z"
   },
   {
    "duration": 0,
    "start_time": "2024-09-16T14:56:20.825Z"
   },
   {
    "duration": 0,
    "start_time": "2024-09-16T14:56:20.829Z"
   },
   {
    "duration": 136,
    "start_time": "2024-09-16T14:57:42.865Z"
   },
   {
    "duration": 4771,
    "start_time": "2024-09-16T15:02:28.191Z"
   },
   {
    "duration": 3891,
    "start_time": "2024-09-16T16:13:22.870Z"
   },
   {
    "duration": 58153,
    "start_time": "2024-09-16T16:13:29.213Z"
   },
   {
    "duration": 459078,
    "start_time": "2024-09-16T16:24:44.605Z"
   },
   {
    "duration": 116517,
    "start_time": "2024-09-16T16:53:31.480Z"
   },
   {
    "duration": 32,
    "start_time": "2024-09-16T17:20:23.241Z"
   },
   {
    "duration": 7,
    "start_time": "2024-09-16T18:08:44.907Z"
   },
   {
    "duration": 3090785,
    "start_time": "2024-09-16T18:25:14.485Z"
   },
   {
    "duration": 9,
    "start_time": "2024-09-16T19:25:36.831Z"
   },
   {
    "duration": 945,
    "start_time": "2024-09-16T19:36:16.050Z"
   },
   {
    "duration": 516,
    "start_time": "2024-09-16T19:36:16.997Z"
   },
   {
    "duration": 82,
    "start_time": "2024-09-16T19:36:17.515Z"
   },
   {
    "duration": 14,
    "start_time": "2024-09-16T19:36:17.599Z"
   },
   {
    "duration": 17,
    "start_time": "2024-09-16T19:36:17.616Z"
   },
   {
    "duration": 16,
    "start_time": "2024-09-16T19:36:17.634Z"
   },
   {
    "duration": 36,
    "start_time": "2024-09-16T19:36:17.653Z"
   },
   {
    "duration": 6,
    "start_time": "2024-09-16T19:36:17.691Z"
   },
   {
    "duration": 126,
    "start_time": "2024-09-16T19:36:17.699Z"
   },
   {
    "duration": 8,
    "start_time": "2024-09-16T19:36:17.827Z"
   },
   {
    "duration": 310,
    "start_time": "2024-09-16T19:36:17.837Z"
   },
   {
    "duration": 284,
    "start_time": "2024-09-16T19:36:18.149Z"
   },
   {
    "duration": 329,
    "start_time": "2024-09-16T19:36:18.435Z"
   },
   {
    "duration": 200,
    "start_time": "2024-09-16T19:36:18.767Z"
   },
   {
    "duration": 16,
    "start_time": "2024-09-16T19:36:18.970Z"
   },
   {
    "duration": 13,
    "start_time": "2024-09-16T19:36:18.988Z"
   },
   {
    "duration": 534,
    "start_time": "2024-09-16T19:36:19.003Z"
   },
   {
    "duration": 3,
    "start_time": "2024-09-16T19:36:19.539Z"
   },
   {
    "duration": 7,
    "start_time": "2024-09-16T19:36:19.544Z"
   },
   {
    "duration": 4838,
    "start_time": "2024-09-16T19:36:19.553Z"
   },
   {
    "duration": 4404,
    "start_time": "2024-09-16T19:36:24.393Z"
   },
   {
    "duration": 238,
    "start_time": "2024-09-16T19:36:28.799Z"
   },
   {
    "duration": 0,
    "start_time": "2024-09-16T19:36:29.039Z"
   },
   {
    "duration": 0,
    "start_time": "2024-09-16T19:36:29.040Z"
   },
   {
    "duration": 0,
    "start_time": "2024-09-16T19:36:29.041Z"
   },
   {
    "duration": 21901,
    "start_time": "2024-09-16T19:39:02.620Z"
   },
   {
    "duration": 1449082,
    "start_time": "2024-09-16T19:41:33.352Z"
   },
   {
    "duration": 3,
    "start_time": "2024-09-16T20:18:26.460Z"
   },
   {
    "duration": 917,
    "start_time": "2024-09-16T20:19:36.918Z"
   },
   {
    "duration": 528,
    "start_time": "2024-09-16T20:19:37.837Z"
   },
   {
    "duration": 65,
    "start_time": "2024-09-16T20:19:38.367Z"
   },
   {
    "duration": 11,
    "start_time": "2024-09-16T20:19:38.435Z"
   },
   {
    "duration": 14,
    "start_time": "2024-09-16T20:19:38.447Z"
   },
   {
    "duration": 36,
    "start_time": "2024-09-16T20:19:38.462Z"
   },
   {
    "duration": 11,
    "start_time": "2024-09-16T20:19:38.499Z"
   },
   {
    "duration": 6,
    "start_time": "2024-09-16T20:19:38.512Z"
   },
   {
    "duration": 143,
    "start_time": "2024-09-16T20:19:38.520Z"
   },
   {
    "duration": 9,
    "start_time": "2024-09-16T20:19:38.667Z"
   },
   {
    "duration": 295,
    "start_time": "2024-09-16T20:19:38.677Z"
   },
   {
    "duration": 293,
    "start_time": "2024-09-16T20:19:38.974Z"
   },
   {
    "duration": 291,
    "start_time": "2024-09-16T20:19:39.269Z"
   },
   {
    "duration": 199,
    "start_time": "2024-09-16T20:19:39.562Z"
   },
   {
    "duration": 5,
    "start_time": "2024-09-16T20:19:39.763Z"
   },
   {
    "duration": 26,
    "start_time": "2024-09-16T20:19:39.770Z"
   },
   {
    "duration": 521,
    "start_time": "2024-09-16T20:19:39.798Z"
   },
   {
    "duration": 4,
    "start_time": "2024-09-16T20:19:40.322Z"
   },
   {
    "duration": 6,
    "start_time": "2024-09-16T20:19:40.328Z"
   },
   {
    "duration": 4698,
    "start_time": "2024-09-16T20:19:40.335Z"
   },
   {
    "duration": 3873,
    "start_time": "2024-09-16T20:19:45.035Z"
   },
   {
    "duration": 233,
    "start_time": "2024-09-16T20:19:48.910Z"
   },
   {
    "duration": 0,
    "start_time": "2024-09-16T20:19:49.145Z"
   },
   {
    "duration": 0,
    "start_time": "2024-09-16T20:19:49.147Z"
   },
   {
    "duration": 0,
    "start_time": "2024-09-16T20:19:49.149Z"
   },
   {
    "duration": 0,
    "start_time": "2024-09-16T20:19:49.150Z"
   },
   {
    "duration": 714653,
    "start_time": "2024-09-16T20:22:28.566Z"
   },
   {
    "duration": 24395,
    "start_time": "2024-09-16T20:39:15.101Z"
   },
   {
    "duration": 113,
    "start_time": "2024-09-16T20:41:59.454Z"
   },
   {
    "duration": 24271,
    "start_time": "2024-09-16T20:42:22.103Z"
   },
   {
    "duration": 49,
    "start_time": "2024-09-16T20:43:28.330Z"
   },
   {
    "duration": 8,
    "start_time": "2024-09-16T20:48:12.297Z"
   },
   {
    "duration": 3,
    "start_time": "2024-09-16T20:55:16.167Z"
   },
   {
    "duration": 30,
    "start_time": "2024-09-16T20:58:35.512Z"
   },
   {
    "duration": 3,
    "start_time": "2024-09-16T20:59:05.508Z"
   },
   {
    "duration": 30,
    "start_time": "2024-09-16T21:00:03.615Z"
   },
   {
    "duration": 24053,
    "start_time": "2024-09-16T21:00:07.465Z"
   },
   {
    "duration": 15,
    "start_time": "2024-09-16T21:02:11.844Z"
   },
   {
    "duration": 3,
    "start_time": "2024-09-16T21:04:13.655Z"
   }
  ],
  "kernelspec": {
   "display_name": "base",
   "language": "python",
   "name": "python3"
  },
  "language_info": {
   "codemirror_mode": {
    "name": "ipython",
    "version": 3
   },
   "file_extension": ".py",
   "mimetype": "text/x-python",
   "name": "python",
   "nbconvert_exporter": "python",
   "pygments_lexer": "ipython3",
   "version": "3.11.7"
  },
  "toc": {
   "base_numbering": 1,
   "nav_menu": {},
   "number_sections": true,
   "sideBar": true,
   "skip_h1_title": true,
   "title_cell": "Table of Contents",
   "title_sidebar": "Contents",
   "toc_cell": false,
   "toc_position": {},
   "toc_section_display": true,
   "toc_window_display": false
  }
 },
 "nbformat": 4,
 "nbformat_minor": 2
}
